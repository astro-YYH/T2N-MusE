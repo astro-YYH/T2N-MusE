{
 "cells": [
  {
   "cell_type": "code",
   "execution_count": 1,
   "metadata": {},
   "outputs": [],
   "source": [
    "import torch\n",
    "import numpy as np\n",
    "import matplotlib.pyplot as plt\n",
    "import os\n",
    "import sys\n",
    "sys.path.append(\"../\") # Add parent directory to path\n",
    "from mfbox import gokunet_df_ratio\n",
    "from scipy.interpolate import interp1d"
   ]
  },
  {
   "cell_type": "code",
   "execution_count": 2,
   "metadata": {},
   "outputs": [
    {
     "name": "stdout",
     "output_type": "stream",
     "text": [
      "Using device: cpu\n"
     ]
    }
   ],
   "source": [
    "# Check if GPU is available\n",
    "device = torch.device(\"cpu\")\n",
    "print(\"Using device:\", device)"
   ]
  },
  {
   "cell_type": "code",
   "execution_count": 3,
   "metadata": {},
   "outputs": [],
   "source": [
    "zs_obj = [0, 0.2, 0.5, 1, 2, 3]\n",
    "# remove duplicates\n",
    "zs_obj = np.unique(zs_obj)"
   ]
  },
  {
   "cell_type": "code",
   "execution_count": 4,
   "metadata": {},
   "outputs": [],
   "source": [
    "# load input data\n",
    "x_test = np.loadtxt(\"../data/muse_H/train_input.txt\")\n",
    "lgk_test = np.loadtxt(\"../data/muse_H/kf.txt\")\n",
    "k_test = 10**lgk_test\n",
    "\n",
    "n_k = len(lgk_test)\n",
    "n_z = len(zs_obj)\n",
    "\n",
    "# normalize input data\n",
    "# bounds = np.loadtxt(\"../data/narrow/matter_power_564_Box250_Part750_15_Box1000_Part3000_z0/input_limits.txt\")\n",
    "bounds_path = \"../data/input_limits-W.txt\"\n",
    "# x_test = (x_test - bounds[:,0]) / (bounds[:,1] - bounds[:,0])\n",
    "\n",
    "y_test = np.loadtxt(\"../data/muse_H/train_output.txt\")\n",
    "# reshape y_test to match the number of k values and z values\n",
    "# y_test = y_test[:, i_z*n_k:(i_z+1)*n_k]\n",
    "y_test = y_test.reshape(-1, n_z, n_k)\n",
    "\n",
    "y_test = 10**y_test\n",
    "\n",
    "ind_h = [24, 25, 26, 54, 55, 56, 72, 73, 74, 207, 208, 209, 240, 241, 242, 300, 301, 302, 522, 523, 524]\n",
    "\n",
    "\n",
    "lgk_l2 = np.loadtxt(\"../data/muse_L2/kf.txt\")\n",
    "k_l2 = 10**lgk_l2\n",
    "n_k_l2 = len(lgk_l2)\n",
    "y_l2 = np.loadtxt(\"../data/muse_L2/train_output.txt\")\n",
    "y_l2 = 10**y_l2[ind_h]\n",
    "y_l2 = y_l2.reshape(-1, n_z, n_k_l2)\n",
    "\n",
    "\n"
   ]
  },
  {
   "cell_type": "code",
   "execution_count": 5,
   "metadata": {},
   "outputs": [
    {
     "data": {
      "text/plain": [
       "(21, 6, 64)"
      ]
     },
     "execution_count": 5,
     "metadata": {},
     "output_type": "execute_result"
    }
   ],
   "source": [
    "y_test.shape"
   ]
  },
  {
   "cell_type": "code",
   "execution_count": 6,
   "metadata": {},
   "outputs": [],
   "source": [
    "def power_ratio(k, y_pred, k_test, y_test):\n",
    "\n",
    "    # find the indices of k_common in k_test\n",
    "    k_indices = np.where((k_test >= k.min()) & (k_test < k.max()))[0]\n",
    "    k_common = k_test[k_indices]\n",
    "    y_test_common = y_test[k_indices]\n",
    "\n",
    "    # interpolate the values of y_pred at the k_common points in log space\n",
    "    f = interp1d(np.log10(k), np.log10(y_pred), axis=0, kind='linear')\n",
    "    y_pred_interp = f(np.log10(k_common))\n",
    "    # convert back to linear space\n",
    "    y_pred_interp = 10**y_pred_interp\n",
    "\n",
    "    # calculate the ratio\n",
    "    ratio = y_pred_interp / y_test_common\n",
    "    print(\"y_test_common\", y_test_common)\n",
    "    print(\"y_pred_interp\", y_pred_interp)\n",
    "\n",
    "    return k_common, ratio\n"
   ]
  },
  {
   "cell_type": "code",
   "execution_count": 7,
   "metadata": {},
   "outputs": [],
   "source": [
    "\n",
    "\n",
    "def rel_MAEs(x1, y1, x2, y2):\n",
    "    # Transform x1, x2, y1, and y2 into log10 space\n",
    "    log10_x1 = np.log10(x1)\n",
    "    log10_x2 = np.log10(x2)\n",
    "    log10_y1 = np.log10(y1)\n",
    "    log10_y2 = np.log10(y2)\n",
    "\n",
    "    # Define the common log10(x) range for interpolation\n",
    "    common_log10_x_min = max(min(log10_x1), min(log10_x2))\n",
    "    common_log10_x_max = min(max(log10_x1), max(log10_x2))\n",
    "    ind_com = np.where((log10_x1 >= common_log10_x_min) & (log10_x1 <= common_log10_x_max) )\n",
    "\n",
    "    common_log10_x = log10_x1[ind_com]\n",
    "\n",
    "    # Interpolate log10_y1 and log10_y2 to the common log10_x grid\n",
    "    interp_log10_y1 = interp1d(log10_x1, log10_y1, kind='linear')(common_log10_x)\n",
    "    interp_log10_y2 = interp1d(log10_x2, log10_y2, kind='linear')(common_log10_x)\n",
    "\n",
    "    # Transform interpolated log10 values back to the original space\n",
    "    interp_y1 = 10**interp_log10_y1\n",
    "    interp_y2 = 10**interp_log10_y2\n",
    "    common_x = 10**common_log10_x  # Transform common_log10_x back to original x values\n",
    "\n",
    "    # Compute (y2 - y1) / y1 in original space\n",
    "    rMAE_y = np.abs((interp_y2 / interp_y1) - 1)\n",
    "    return common_x, rMAE_y\n",
    "\n",
    "def rMAE_av_cosmo(k_test, y_test, k_pred, y_pred, exclude=None):\n",
    "    Ps_pred = y_pred\n",
    "    Ps_sim = y_test\n",
    "    k_sim = k_test\n",
    "    k, rAEs = rel_MAEs(k_sim, Ps_sim, k_pred, Ps_pred)\n",
    "    if exclude is not None:  # exclude some cosmologies\n",
    "        rAEs = np.delete(rAEs, exclude, axis=0)\n",
    "    rMAE_av = np.mean(rAEs, axis=0)\n",
    "\n",
    "    # rAE_av_k = np.mean(rAEs, axis=1)\n",
    "\n",
    "    # min and max\n",
    "    rMAE_min, rMAE_max = np.min(rAEs, axis=0), np.max(rAEs, axis=0)\n",
    "    return k, rMAE_av, rMAE_min, rMAE_max, rAEs"
   ]
  },
  {
   "cell_type": "code",
   "execution_count": 8,
   "metadata": {},
   "outputs": [],
   "source": [
    "# loop over all k-folds to get the prediction\n",
    "y_h2_pred = []\n",
    "kfolds = 21\n",
    "\n",
    "for i in range(kfolds):\n",
    "    emu = gokunet_df_ratio(path_LF=\"../models/muse-All-2_L2/model_fold{}.pth\".format(ind_h[i]), path_LHr=\"../models/muse-HO-2_L2Hr/model_fold{}.pth\".format(i), bounds_path=bounds_path, device=device)\n",
    "    # emu = gokunet_test(path_LA=\"../models/L1A/model_fold{}.pth\".format(ind_h[i]),path_HA=\"../models/LHAr/model_fold{}.pth\".format(i), path_L2=\"../models/L2/model_fold{}.pth\".format(ind_h[i]), path_LH=\"../models/LHr_stitch/best_model.pth\".format(i), bounds_path=bounds_path)\n",
    "    _, y_h2_pred_temp = emu.predict(x_test)\n",
    "    y_h2_pred.append(y_h2_pred_temp[i])\n",
    "\n",
    "y_h2_pred = np.array(y_h2_pred)\n",
    "y_h2_pred = y_h2_pred.reshape(-1, n_z, n_k_l2)\n"
   ]
  },
  {
   "cell_type": "code",
   "execution_count": 9,
   "metadata": {},
   "outputs": [],
   "source": [
    "from matplotlib import patches\n"
   ]
  },
  {
   "cell_type": "code",
   "execution_count": 10,
   "metadata": {},
   "outputs": [
    {
     "name": "stdout",
     "output_type": "stream",
     "text": [
      "average over k: 0.007267487681354589\n",
      "average over k: 0.0066145047880208285\n",
      "average over k: 0.006565767138451821\n",
      "average over k: 0.0058721483073258685\n",
      "average over k: 0.005488582978740277\n",
      "average over k: 0.0054885682296333255\n"
     ]
    },
    {
     "data": {
      "text/plain": [
       "<matplotlib.legend.Legend at 0x77932971c2b0>"
      ]
     },
     "execution_count": 10,
     "metadata": {},
     "output_type": "execute_result"
    },
    {
     "data": {
      "image/png": "[encoded data removed]",
      "text/plain": [
       "<Figure size 370x270 with 1 Axes>"
      ]
     },
     "metadata": {},
     "output_type": "display_data"
    }
   ],
   "source": [
    "fig, ax = plt.subplots(1, 1, figsize=(3.7, 2.7))\n",
    "\n",
    "# plt.rcParams['font.family'] = 'Times New Roman'\n",
    "\n",
    "# Set math font style\n",
    "plt.rcParams['mathtext.fontset'] = 'cm'\n",
    "\n",
    "\n",
    "# zs_str = ['0', '0.2', '0.5', '1', '2', '3', '4', '9', '49', '99']\n",
    "# a = 1/(1+zs)\n",
    "rMAE_cosmos = []\n",
    "\n",
    "cmap = \"viridis\"\n",
    "cmap = plt.get_cmap(cmap)\n",
    "color_list = [x for x in cmap(np.arange(len(zs_obj))/(len(zs_obj)-1))]\n",
    "\n",
    "for i in range(len(zs_obj)):\n",
    "    c = color_list[i]\n",
    "\n",
    "    k_com, rMAE, rMAE_min, rMAE_max, rAEs = rMAE_av_cosmo(k_test, y_test[:,i], k_l2, y_h2_pred[:,i], exclude=None)\n",
    "    # rMAE_zs.append(rMAE.mean())\n",
    "    # plot all cosmologies\n",
    "    # for j in range(rAEs.shape[0]):\n",
    "    #     ax.plot(k_com, rAEs[j]/1e-2, color=c, alpha=0.1)\n",
    "\n",
    "    \n",
    "    ax.fill_between(k_com, rMAE_min/1e-2, rMAE_max/1e-2, facecolor=c, alpha=0.2, edgecolor='none')\n",
    "\n",
    "    ax.plot(k_com, rMAE/1e-2, color=c, label=r\"$z=%.1f$\" % zs_obj[i])\n",
    "\n",
    "    print('average over k:', rMAE.mean())\n",
    "    rMAE_cosmos.append(rMAE.mean())\n",
    "\n",
    "rMAE_cosmos = np.array(rMAE_cosmos)\n",
    "    \n",
    "\n",
    "# title\n",
    "ax.set_title(r'$\\tt{GokuNet}$'+'-'+r'$\\tt{N}$' + f' ({100*rMAE_cosmos.mean():.2f}%)')\n",
    "\n",
    "\n",
    "ax.set_ylabel(r'$\\Phi_{\\mathrm{rMAE}}\\ (\\%)$')\n",
    "# plt.xlabel(r'$k\\ (h\\,\\mathrm{Mpc}^{-1})$')\n",
    "# plt.ylabel(r'$P(k)\\ (h^{-3}\\mathrm{Mpc}^3)$')\n",
    "# ax.plot([], [], color='black', label='HF')\n",
    "# ax.plot([], [], color='black', label='HF w.r.t. Linear')\n",
    "# ax.plot([], [], color='black', linestyle='--', label='L2 w.r.t. HF')\n",
    "ax.set_ylim(0., 5)\n",
    "ax.set_xscale('log')\n",
    "ax.set_xlabel(r'$k\\ (h\\,\\mathrm{Mpc}^{-1})$')\n",
    "# ax.set_ylabel(r'$(P_\\mathrm{HF}-P_\\mathrm{Li})/P_\\mathrm{Li}$')\n",
    "\n",
    "xlim1 = .02\n",
    "xlim2 = 10\n",
    "ax.set_xlim(xlim1, xlim2)\n",
    "\n",
    "square1 = patches.Rectangle((xlim1, -0.0), xlim2-xlim1, 1, color='gray', alpha=.3, zorder=2, label=r'$1\\%$')  # alpha ranges from 0 (transparent) to 1 (opaque)\n",
    "# Add the square to the axes\n",
    "ax.add_patch(square1)\n",
    "# ax.add_patch(square1)\n",
    "# ax.legend(loc='upper left')\n",
    "# move the legend to outside the plot\n",
    "ax.legend(loc='upper left', bbox_to_anchor=(1.05, 1), fontsize=8)\n",
    "\n",
    "\n",
    "# plt.show()\n",
    "# plt.savefig('loo_against_W.pdf', bbox_inches='tight')"
   ]
  },
  {
   "cell_type": "code",
   "execution_count": 11,
   "metadata": {},
   "outputs": [
    {
     "name": "stdout",
     "output_type": "stream",
     "text": [
      "Worst cosmology rMAE: 0.011486807915299067\n"
     ]
    }
   ],
   "source": [
    "rMAE_cosmos_zs = []\n",
    "\n",
    "for i in range(len(zs_obj)):\n",
    "\n",
    "    k_com, rMAE, rMAE_min, rMAE_max, rAEs = rMAE_av_cosmo(k_test, y_test[:,i], k_l2, y_h2_pred[:,i], exclude=None)\n",
    "    # rMAE_zs.append(rMAE.mean())\n",
    "    # plot all cosmologies\n",
    "    # for j in range(rAEs.shape[0]):\n",
    "    #     ax.plot(k_com, rAEs[j]/1e-2, color=c, alpha=0.1)\n",
    "    rMAE_cosmos_zs.append(rAEs)\n",
    "\n",
    "rMAE_cosmos_zs = np.array(rMAE_cosmos_zs)\n",
    "\n",
    "rMAE_worst_cosmo = rMAE_cosmos_zs.mean(axis=0).mean(axis=1).max()\n",
    "\n",
    "print(\"Worst cosmology rMAE:\", rMAE_worst_cosmo)"
   ]
  }
 ],
 "metadata": {
  "kernelspec": {
   "display_name": "pytorch-env",
   "language": "python",
   "name": "python3"
  },
  "language_info": {
   "codemirror_mode": {
    "name": "ipython",
    "version": 3
   },
   "file_extension": ".py",
   "mimetype": "text/x-python",
   "name": "python",
   "nbconvert_exporter": "python",
   "pygments_lexer": "ipython3",
   "version": "3.10.16"
  }
 },
 "nbformat": 4,
 "nbformat_minor": 2
}
