{
 "cells": [
  {
   "cell_type": "code",
   "execution_count": 1,
   "metadata": {},
   "outputs": [],
   "source": [
    "import numpy as np"
   ]
  },
  {
   "cell_type": "code",
   "execution_count": null,
   "metadata": {},
   "outputs": [],
   "source": [
    "# load data\n",
    "\n",
    "# LF input and output\n",
    "x_l1 = np.loadtxt('./narrow/matter_power_297_Box100_Part75_27_Box100_Part300_z0/train_input_fidelity_0.txt')\n",
    "y_l1 = np.loadtxt('./narrow/matter_power_297_Box100_Part75_27_Box100_Part300_z0/train_output_fidelity_0.txt')\n",
    "k_l1 = np.loadtxt('./narrow/matter_power_297_Box100_Part75_27_Box100_Part300_z0/kf.txt')\n",
    "\n",
    "x_l2 = np.loadtxt('./narrow/matter_power_297_Box25_Part75_27_Box100_Part300_z0/train_input_fidelity_0.txt')\n",
    "y_l2 = np.loadtxt('./narrow/matter_power_297_Box25_Part75_27_Box100_Part300_z0/train_output_fidelity_0.txt')\n",
    "k_l2 = np.loadtxt('./narrow/matter_power_297_Box25_Part75_27_Box100_Part300_z0/kf.txt')\n",
    "\n",
    "# HF input and output\n",
    "x_h = np.loadtxt('./narrow/matter_power_297_Box25_Part75_27_Box100_Part300_z0/train_input_fidelity_1.txt')\n",
    "y_h = np.loadtxt('./narrow/matter_power_297_Box25_Part75_27_Box100_Part300_z0/train_output_fidelity_1.txt')\n",
    "k_h = np.loadtxt('./narrow/matter_power_297_Box25_Part75_27_Box100_Part300_z0/kf.txt')"
   ]
  },
  {
   "cell_type": "code",
   "execution_count": 3,
   "metadata": {},
   "outputs": [],
   "source": [
    "# loop over the L1 input and find the ones (indices) that are in the HF input\n",
    "indices = []\n",
    "for i in range(len(x_l1)):\n",
    "    if x_l1[i] in x_h:\n",
    "        indices.append(i)\n"
   ]
  },
  {
   "cell_type": "code",
   "execution_count": 4,
   "metadata": {},
   "outputs": [
    {
     "data": {
      "text/plain": [
       "[6,\n",
       " 7,\n",
       " 8,\n",
       " 54,\n",
       " 55,\n",
       " 56,\n",
       " 60,\n",
       " 61,\n",
       " 62,\n",
       " 72,\n",
       " 73,\n",
       " 74,\n",
       " 81,\n",
       " 82,\n",
       " 83,\n",
       " 168,\n",
       " 169,\n",
       " 170,\n",
       " 189,\n",
       " 190,\n",
       " 191,\n",
       " 192,\n",
       " 193,\n",
       " 194,\n",
       " 282,\n",
       " 283,\n",
       " 284]"
      ]
     },
     "execution_count": 4,
     "metadata": {},
     "output_type": "execute_result"
    }
   ],
   "source": [
    "indices"
   ]
  },
  {
   "cell_type": "code",
   "execution_count": 5,
   "metadata": {},
   "outputs": [
    {
     "data": {
      "text/plain": [
       "array([-0.59976085, -0.57448928, -0.5492177 , -0.52394612, -0.49867454,\n",
       "       -0.47340297, -0.44813139, -0.42285981, -0.39758823, -0.37231666,\n",
       "       -0.34704508, -0.3217735 , -0.29650192, -0.27123035, -0.24595877,\n",
       "       -0.22068719, -0.19541562, -0.17014404, -0.14487246, -0.11960088,\n",
       "       -0.09432931, -0.06905773, -0.04378615, -0.01851457,  0.006757  ,\n",
       "        0.03202858,  0.05730016,  0.08257174,  0.10784331,  0.13311489,\n",
       "        0.15838647,  0.18365804,  0.20892962,  0.2342012 ,  0.25947278,\n",
       "        0.28474435,  0.31001593,  0.33528751,  0.36055909,  0.38583066,\n",
       "        0.41110224,  0.43637382,  0.4616454 ,  0.48691697,  0.51218855,\n",
       "        0.53746013,  0.5627317 ,  0.58800328,  0.61327486,  0.63854644,\n",
       "        0.66381801,  0.68908959,  0.71436117,  0.73963275,  0.76490432,\n",
       "        0.7901759 ,  0.81544748,  0.84071906,  0.86599063,  0.89126221,\n",
       "        0.91653379,  0.94180536,  0.96707694,  0.99234852])"
      ]
     },
     "execution_count": 5,
     "metadata": {},
     "output_type": "execute_result"
    }
   ],
   "source": [
    "k_h"
   ]
  },
  {
   "cell_type": "code",
   "execution_count": 6,
   "metadata": {},
   "outputs": [],
   "source": [
    "def cut_and_stitch(k_l1, y_l1, k_l2, y_l2, k_h): # y_l1 and y_l2 are 2D arrays\n",
    "    # index of middle k value\n",
    "    middle = len(k_h) // 2\n",
    "    # interpolate the L1 output to the first half HF k values\n",
    "    y_l1_interp = np.array([np.interp(k_h[:middle], k_l1, y_l1[i,:]) for i in range(len(y_l1))])\n",
    "    # interpolate the L1 output to the second half HF k values\n",
    "    y_l2_interp = np.array([np.interp(k_h[middle:], k_l2, y_l2[i,:]) for i in range(len(y_l2))])\n",
    "    # stitch the two interpolated outputs together\n",
    "    y_interp = np.concatenate((y_l1_interp, y_l2_interp), axis=1)\n",
    "    return y_interp"
   ]
  },
  {
   "cell_type": "code",
   "execution_count": 7,
   "metadata": {},
   "outputs": [],
   "source": [
    "# cut y_l1 and y_l2 and stitch them together\n",
    "y_lf = cut_and_stitch(k_l1, y_l1[indices], k_l2, y_l2[indices], k_h)"
   ]
  },
  {
   "cell_type": "code",
   "execution_count": 8,
   "metadata": {},
   "outputs": [],
   "source": [
    "# create dataset for LF-HF correlation\n",
    "# input: x_h, y_l1[indices], y_l2[indices] (concatenate)\n",
    "x_xylf = np.concatenate((x_h, y_lf), axis=1)\n",
    "\n",
    "# output: y_h \n",
    "y_h = y_h"
   ]
  },
  {
   "cell_type": "code",
   "execution_count": 9,
   "metadata": {},
   "outputs": [
    {
     "data": {
      "text/plain": [
       "(27, 74)"
      ]
     },
     "execution_count": 9,
     "metadata": {},
     "output_type": "execute_result"
    }
   ],
   "source": [
    "x_xylf.shape"
   ]
  },
  {
   "cell_type": "code",
   "execution_count": 11,
   "metadata": {},
   "outputs": [],
   "source": [
    "# save the dataset\n",
    "save_dir = 'pre_N_L-H_z0'\n",
    "\n",
    "np.savetxt(save_dir + '/train_input.txt', x_xylf)\n",
    "np.savetxt(save_dir + '/train_output.txt', y_h)"
   ]
  },
  {
   "cell_type": "code",
   "execution_count": 12,
   "metadata": {},
   "outputs": [],
   "source": [
    "# save the dataset\n",
    "save_dir = 'pre_N_L-H_stitch_z0'\n",
    "\n",
    "np.savetxt(save_dir + '/train_input.txt', y_lf)\n",
    "np.savetxt(save_dir + '/train_output.txt', y_h)"
   ]
  },
  {
   "cell_type": "code",
   "execution_count": null,
   "metadata": {},
   "outputs": [],
   "source": []
  }
 ],
 "metadata": {
  "kernelspec": {
   "display_name": "pytorch-env",
   "language": "python",
   "name": "python3"
  },
  "language_info": {
   "codemirror_mode": {
    "name": "ipython",
    "version": 3
   },
   "file_extension": ".py",
   "mimetype": "text/x-python",
   "name": "python",
   "nbconvert_exporter": "python",
   "pygments_lexer": "ipython3",
   "version": "3.10.16"
  }
 },
 "nbformat": 4,
 "nbformat_minor": 2
}
