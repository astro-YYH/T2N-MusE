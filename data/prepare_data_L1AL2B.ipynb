{
 "cells": [
  {
   "cell_type": "code",
   "execution_count": 1,
   "metadata": {},
   "outputs": [],
   "source": [
    "import numpy as np\n",
    "import os"
   ]
  },
  {
   "cell_type": "code",
   "execution_count": 2,
   "metadata": {},
   "outputs": [],
   "source": [
    "# load data\n",
    "\n",
    "# LF input and output\n",
    "x_l1 = np.loadtxt('/home/yang/Desktop/GitReps/GokuEmu/data/narrow/matter_power_297_Box100_Part75_27_Box100_Part300_z0/train_input_fidelity_0.txt')\n",
    "y_l1 = np.loadtxt('/home/yang/Desktop/GitReps/GokuEmu/data/narrow/matter_power_297_Box100_Part75_27_Box100_Part300_z0/train_output_fidelity_0.txt')\n",
    "k_l1 = np.loadtxt('/home/yang/Desktop/GitReps/GokuEmu/data/narrow/matter_power_297_Box100_Part75_27_Box100_Part300_z0/kf.txt')\n",
    "\n",
    "x_l2 = np.loadtxt('/home/yang/Desktop/GitReps/GokuEmu/data/narrow/matter_power_297_Box25_Part75_27_Box100_Part300_z0/train_input_fidelity_0.txt')\n",
    "y_l2 = np.loadtxt('/home/yang/Desktop/GitReps/GokuEmu/data/narrow/matter_power_297_Box25_Part75_27_Box100_Part300_z0/train_output_fidelity_0.txt')\n",
    "k_l2 = np.loadtxt('/home/yang/Desktop/GitReps/GokuEmu/data/narrow/matter_power_297_Box25_Part75_27_Box100_Part300_z0/kf.txt')"
   ]
  },
  {
   "cell_type": "code",
   "execution_count": 3,
   "metadata": {},
   "outputs": [],
   "source": [
    "# L1 and L2 split\n",
    "\n",
    "k_mid = k_l1[k_l1.shape[0] // 2]\n",
    "\n",
    "# locate the index of k_mid in k_l1\n",
    "idx = np.where(k_l1 == k_mid)[0][0]\n",
    "y_l1A = y_l1[:,:idx]\n",
    "k_l1A = k_l1[:idx]\n",
    "\n",
    "# locate the index of k_mid in k_l2\n",
    "idx = np.where(k_l2 == k_mid)[0][0]\n",
    "y_l2B = y_l2[:,idx:]\n",
    "k_l2B = k_l2[idx:]"
   ]
  },
  {
   "cell_type": "code",
   "execution_count": 4,
   "metadata": {},
   "outputs": [],
   "source": [
    "y_L = np.concatenate((y_l1A, y_l2B), axis=1)\n",
    "k_L = np.concatenate((k_l1A, k_l2B))"
   ]
  },
  {
   "cell_type": "code",
   "execution_count": 5,
   "metadata": {},
   "outputs": [],
   "source": [
    "# save the split data\n",
    "dir_L = \"pre_N_L1AL2B_z0\"\n",
    "# make the directory if not exist\n",
    "\n",
    "if not os.path.exists(dir_L):\n",
    "    os.makedirs(dir_L)\n",
    "\n",
    "\n",
    "np.savetxt(dir_L + '/train_output.txt', y_L)\n",
    "\n",
    "# also copy the input data and k data\n",
    "np.savetxt(dir_L + '/train_input.txt', x_l1)\n",
    "\n",
    "np.savetxt(dir_L + '/kf.txt', k_L)\n"
   ]
  }
 ],
 "metadata": {
  "kernelspec": {
   "display_name": "pytorch-env",
   "language": "python",
   "name": "python3"
  },
  "language_info": {
   "codemirror_mode": {
    "name": "ipython",
    "version": 3
   },
   "file_extension": ".py",
   "mimetype": "text/x-python",
   "name": "python",
   "nbconvert_exporter": "python",
   "pygments_lexer": "ipython3",
   "version": "3.10.16"
  }
 },
 "nbformat": 4,
 "nbformat_minor": 2
}
