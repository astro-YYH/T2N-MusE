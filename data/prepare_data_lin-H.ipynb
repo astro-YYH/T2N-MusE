{
 "cells": [
  {
   "cell_type": "code",
   "execution_count": 1,
   "metadata": {},
   "outputs": [],
   "source": [
    "import numpy as np\n",
    "import torch\n",
    "# add path\n",
    "import sys\n",
    "import os\n",
    "sys.path.append('../')\n",
    "from mfbox import gokunet_sf"
   ]
  },
  {
   "cell_type": "code",
   "execution_count": 2,
   "metadata": {},
   "outputs": [],
   "source": [
    "# load data\n",
    "\n",
    "# LH\n",
    "x_xl = np.loadtxt('pre_N_xL-H_stitch_z0/train_input.txt')\n",
    "y_h = np.loadtxt('pre_N_xL-H_stitch_z0/train_output.txt')\n",
    "model_path = '../models/pre_N_xLH_stitch_3slin_z0/best_model.pth'\n",
    "save_dir = 'pre_N_xL-H_stitch_3snonlin_z0'\n",
    "\n",
    "# LHA\n",
    "# x_xl = np.loadtxt('pre_N_LHA_z0/train_input.txt')\n",
    "# y_h = np.loadtxt('pre_N_LHA_z0/train_output.txt')\n",
    "# model_path = '../models/pre_N_LHA_3slin_z0/best_model.pth'\n",
    "# save_dir = 'pre_N_LHA_3snonlin_z0'\n",
    "\n",
    "bounds_path = \"pre_N_xL-H_stitch_z0/input_limits.txt\"\n"
   ]
  },
  {
   "cell_type": "code",
   "execution_count": 3,
   "metadata": {},
   "outputs": [],
   "source": [
    "# predict y_lin\n",
    "emu = gokunet_sf(model_path, bounds_path=bounds_path)\n",
    "# emu = gokunet_sf('../models/pre_N_xLH_stitch_3slin_z0/best_model.pth', bounds_path=bounds_path)\n",
    "\n",
    "_, y_lin = emu.predict(x_xl)\n",
    "y_lin = np.log10(y_lin)\n"
   ]
  },
  {
   "cell_type": "code",
   "execution_count": 4,
   "metadata": {},
   "outputs": [],
   "source": [
    "# concatenate xLF and y_lin\n",
    "x_xl1Alin = np.concatenate((x_xl, y_lin), axis=1)"
   ]
  },
  {
   "cell_type": "code",
   "execution_count": 5,
   "metadata": {},
   "outputs": [
    {
     "data": {
      "text/plain": [
       "(27, 138)"
      ]
     },
     "execution_count": 5,
     "metadata": {},
     "output_type": "execute_result"
    }
   ],
   "source": [
    "x_xl1Alin.shape"
   ]
  },
  {
   "cell_type": "code",
   "execution_count": 6,
   "metadata": {},
   "outputs": [],
   "source": [
    "# save the dataset\n",
    "# save_dir = 'pre_N_LHA_3snonlin_z0'\n",
    "# save_dir = 'pre_N_xL-H_stitch_3snonlin_z0'\n",
    "# mkdir if not exist\n",
    "\n",
    "if not os.path.exists(save_dir):\n",
    "    os.makedirs(save_dir)\n",
    "\n",
    "np.savetxt(save_dir + '/train_input.txt', x_xl1Alin)\n",
    "np.savetxt(save_dir + '/train_output.txt', y_h)"
   ]
  },
  {
   "cell_type": "code",
   "execution_count": null,
   "metadata": {},
   "outputs": [],
   "source": []
  }
 ],
 "metadata": {
  "kernelspec": {
   "display_name": "pytorch-env",
   "language": "python",
   "name": "python3"
  },
  "language_info": {
   "codemirror_mode": {
    "name": "ipython",
    "version": 3
   },
   "file_extension": ".py",
   "mimetype": "text/x-python",
   "name": "python",
   "nbconvert_exporter": "python",
   "pygments_lexer": "ipython3",
   "version": "3.10.16"
  }
 },
 "nbformat": 4,
 "nbformat_minor": 2
}
