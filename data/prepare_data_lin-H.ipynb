{
 "cells": [
  {
   "cell_type": "code",
   "execution_count": 1,
   "metadata": {},
   "outputs": [],
   "source": [
    "import numpy as np\n",
    "import torch\n",
    "# add path\n",
    "import sys\n",
    "import os\n",
    "sys.path.append('../')\n",
    "from mfbox import load_model"
   ]
  },
  {
   "cell_type": "code",
   "execution_count": 2,
   "metadata": {},
   "outputs": [],
   "source": [
    "# load data\n",
    "\n",
    "# xLF input and output\n",
    "x_xl = np.loadtxt('pre_N_xL-H_stitch_z0/train_input.txt')\n",
    "y_h = np.loadtxt('pre_N_xL-H_stitch_z0/train_output.txt')\n",
    "\n",
    "\n"
   ]
  },
  {
   "cell_type": "code",
   "execution_count": 3,
   "metadata": {},
   "outputs": [],
   "source": [
    "# predict y_lin\n",
    "\n",
    "# load model\n",
    "model = load_model('../models/pre_N_xLH_stitch_3sLin_z0/best_model.pth')\n",
    "\n",
    "#normalize input\n",
    "# bounds\n",
    "bounds = np.loadtxt('pre_N_xL-H_stitch_z0/input_limits.txt')\n",
    "# normalize the input data (only the first matched columns)\n",
    "dimx_original = bounds.shape[0]\n",
    "x_xl_norm = x_xl.copy()\n",
    "x_xl_norm[:,:dimx_original] = (x_xl[:,:dimx_original] - bounds[:,0]) / (bounds[:,1] - bounds[:,0])\n",
    "\n",
    "# predict\n",
    "model.eval()\n",
    "\n",
    "# to tensor\n",
    "x_xl_norm = torch.tensor(x_xl_norm, dtype=torch.float32)\n",
    "y_lin = model(x_xl_norm)\n"
   ]
  },
  {
   "cell_type": "code",
   "execution_count": 4,
   "metadata": {},
   "outputs": [],
   "source": [
    "y_lin = y_lin.detach().numpy()"
   ]
  },
  {
   "cell_type": "code",
   "execution_count": 5,
   "metadata": {},
   "outputs": [],
   "source": [
    "x = x_xl[:,:dimx_original]\n",
    "y_l = x_xl[:,dimx_original:]"
   ]
  },
  {
   "cell_type": "code",
   "execution_count": 6,
   "metadata": {},
   "outputs": [],
   "source": [
    "# concatenate y_l and y_lin in such way that y_l_1, y_lin_1, y_l_2, y_lin_2, ...\n",
    "# y = np.zeros((y_lin.shape[0], 2*y_lin.shape[1]))\n",
    "# y[:,::2] = y_l\n",
    "# y[:,1::2] = y_lin\n",
    "\n",
    "y = np.concatenate((y_l, y_lin), axis=1)\n",
    "# y = y_l"
   ]
  },
  {
   "cell_type": "code",
   "execution_count": 7,
   "metadata": {},
   "outputs": [],
   "source": [
    "# create dataset for LF-HF correlation\n",
    "# input: x_h, y_l1[indices], y_l2[indices] (concatenate)\n",
    "x_xllin = np.concatenate((x, y), axis=1)\n",
    "\n",
    "# output: y_h \n",
    "y_h = y_h"
   ]
  },
  {
   "cell_type": "code",
   "execution_count": 8,
   "metadata": {},
   "outputs": [
    {
     "data": {
      "text/plain": [
       "(27, 138)"
      ]
     },
     "execution_count": 8,
     "metadata": {},
     "output_type": "execute_result"
    }
   ],
   "source": [
    "x_xllin.shape"
   ]
  },
  {
   "cell_type": "code",
   "execution_count": 9,
   "metadata": {},
   "outputs": [],
   "source": [
    "# save the dataset\n",
    "save_dir = 'pre_N_xL-H_stitch_3sNonlin_z0'\n",
    "# mkdir if not exist\n",
    "\n",
    "if not os.path.exists(save_dir):\n",
    "    os.makedirs(save_dir)\n",
    "\n",
    "np.savetxt(save_dir + '/train_input.txt', x_xllin)\n",
    "np.savetxt(save_dir + '/train_output.txt', y_h)"
   ]
  },
  {
   "cell_type": "code",
   "execution_count": null,
   "metadata": {},
   "outputs": [],
   "source": []
  }
 ],
 "metadata": {
  "kernelspec": {
   "display_name": "pytorch-env",
   "language": "python",
   "name": "python3"
  },
  "language_info": {
   "codemirror_mode": {
    "name": "ipython",
    "version": 3
   },
   "file_extension": ".py",
   "mimetype": "text/x-python",
   "name": "python",
   "nbconvert_exporter": "python",
   "pygments_lexer": "ipython3",
   "version": "3.10.16"
  }
 },
 "nbformat": 4,
 "nbformat_minor": 2
}
