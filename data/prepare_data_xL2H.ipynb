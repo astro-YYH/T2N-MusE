{
 "cells": [
  {
   "cell_type": "code",
   "execution_count": 1,
   "metadata": {},
   "outputs": [],
   "source": [
    "import numpy as np"
   ]
  },
  {
   "cell_type": "code",
   "execution_count": 2,
   "metadata": {},
   "outputs": [],
   "source": [
    "# load data\n",
    "\n",
    "# LF input and output\n",
    "\n",
    "x_l2 = np.loadtxt('/home/yang/Desktop/GitReps/GokuEmu/data/narrow/matter_power_297_Box25_Part75_27_Box100_Part300_z0/train_input_fidelity_0.txt')\n",
    "y_l2 = np.loadtxt('/home/yang/Desktop/GitReps/GokuEmu/data/narrow/matter_power_297_Box25_Part75_27_Box100_Part300_z0/train_output_fidelity_0.txt')\n",
    "\n",
    "\n",
    "# HF input and output\n",
    "x_h = np.loadtxt('/home/yang/Desktop/GitReps/GokuEmu/data/narrow/matter_power_297_Box25_Part75_27_Box100_Part300_z0/train_input_fidelity_1.txt')\n",
    "y_h = np.loadtxt('/home/yang/Desktop/GitReps/GokuEmu/data/narrow/matter_power_297_Box25_Part75_27_Box100_Part300_z0/train_output_fidelity_1.txt')"
   ]
  },
  {
   "cell_type": "code",
   "execution_count": 3,
   "metadata": {},
   "outputs": [],
   "source": [
    "# loop over the L2 input and find the ones (indices) that are in the HF input\n",
    "indices = []\n",
    "for i in range(len(x_l2)):\n",
    "    if x_l2[i] in x_h:\n",
    "        indices.append(i)\n"
   ]
  },
  {
   "cell_type": "code",
   "execution_count": 4,
   "metadata": {},
   "outputs": [
    {
     "data": {
      "text/plain": [
       "[6,\n",
       " 7,\n",
       " 8,\n",
       " 54,\n",
       " 55,\n",
       " 56,\n",
       " 60,\n",
       " 61,\n",
       " 62,\n",
       " 72,\n",
       " 73,\n",
       " 74,\n",
       " 81,\n",
       " 82,\n",
       " 83,\n",
       " 168,\n",
       " 169,\n",
       " 170,\n",
       " 189,\n",
       " 190,\n",
       " 191,\n",
       " 192,\n",
       " 193,\n",
       " 194,\n",
       " 282,\n",
       " 283,\n",
       " 284]"
      ]
     },
     "execution_count": 4,
     "metadata": {},
     "output_type": "execute_result"
    }
   ],
   "source": [
    "indices"
   ]
  },
  {
   "cell_type": "code",
   "execution_count": 5,
   "metadata": {},
   "outputs": [],
   "source": [
    "# create dataset for LF-HF correlation\n",
    "# input: x_h, y_l1[indices], y_l2[indices] (concatenate)\n",
    "x_xyl2 = np.concatenate((x_h, y_l2[indices]), axis=1)\n",
    "\n",
    "# output: y_h \n",
    "y_h = y_h"
   ]
  },
  {
   "cell_type": "code",
   "execution_count": 6,
   "metadata": {},
   "outputs": [
    {
     "data": {
      "text/plain": [
       "(27, 74)"
      ]
     },
     "execution_count": 6,
     "metadata": {},
     "output_type": "execute_result"
    }
   ],
   "source": [
    "x_xyl2.shape"
   ]
  },
  {
   "cell_type": "code",
   "execution_count": 7,
   "metadata": {},
   "outputs": [],
   "source": [
    "# save the dataset\n",
    "save_dir = 'pre_N_xL2-H_z0'\n",
    "# make the directory if not exist\n",
    "import os\n",
    "if not os.path.exists(save_dir):\n",
    "    os.makedirs(save_dir)\n",
    "np.savetxt(save_dir + '/train_input.txt', x_xyl2)\n",
    "np.savetxt(save_dir + '/train_output.txt', y_h)"
   ]
  }
 ],
 "metadata": {
  "kernelspec": {
   "display_name": "pytorch-env",
   "language": "python",
   "name": "python3"
  },
  "language_info": {
   "codemirror_mode": {
    "name": "ipython",
    "version": 3
   },
   "file_extension": ".py",
   "mimetype": "text/x-python",
   "name": "python",
   "nbconvert_exporter": "python",
   "pygments_lexer": "ipython3",
   "version": "3.10.16"
  }
 },
 "nbformat": 4,
 "nbformat_minor": 2
}
