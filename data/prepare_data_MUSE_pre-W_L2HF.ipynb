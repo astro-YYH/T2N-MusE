{
 "cells": [
  {
   "cell_type": "code",
   "execution_count": 1,
   "metadata": {},
   "outputs": [],
   "source": [
    "import numpy as np"
   ]
  },
  {
   "cell_type": "code",
   "execution_count": 2,
   "metadata": {},
   "outputs": [],
   "source": [
    "# load data\n",
    "\n",
    "x_l2 = np.loadtxt('./wide/matter_power_297_Box25_Part75_27_Box100_Part300_z0/train_input_fidelity_0.txt')\n",
    "\n",
    "\n",
    "# HF input and output\n",
    "x_h = np.loadtxt('./wide/matter_power_297_Box25_Part75_27_Box100_Part300_z0/train_input_fidelity_1.txt')\n"
   ]
  },
  {
   "cell_type": "code",
   "execution_count": 3,
   "metadata": {},
   "outputs": [],
   "source": [
    "# load all z \n",
    "z_str = ['0', '0.2', '0.5', '1', '2', '3']\n",
    "\n",
    "y_l2 = []\n",
    "y_h = []\n",
    "for i in range(len(z_str)):\n",
    "    y_l2.append(np.loadtxt('./wide/matter_power_297_Box25_Part75_27_Box100_Part300_z' + z_str[i] + '/train_output_fidelity_0.txt'))\n",
    "    y_h.append(np.loadtxt('./wide/matter_power_297_Box25_Part75_27_Box100_Part300_z' + z_str[i] + '/train_output_fidelity_1.txt'))\n",
    "y_h = np.concatenate(y_h, axis=1)\n",
    "y_l2 = np.concatenate(y_l2, axis=1)\n"
   ]
  },
  {
   "cell_type": "code",
   "execution_count": 4,
   "metadata": {},
   "outputs": [
    {
     "data": {
      "text/plain": [
       "(27, 384)"
      ]
     },
     "execution_count": 4,
     "metadata": {},
     "output_type": "execute_result"
    }
   ],
   "source": [
    "y_h.shape"
   ]
  },
  {
   "cell_type": "code",
   "execution_count": 5,
   "metadata": {},
   "outputs": [
    {
     "data": {
      "text/plain": [
       "(297, 384)"
      ]
     },
     "execution_count": 5,
     "metadata": {},
     "output_type": "execute_result"
    }
   ],
   "source": [
    "y_l2.shape"
   ]
  },
  {
   "cell_type": "code",
   "execution_count": 6,
   "metadata": {},
   "outputs": [
    {
     "data": {
      "text/plain": [
       "(27, 384)"
      ]
     },
     "execution_count": 6,
     "metadata": {},
     "output_type": "execute_result"
    }
   ],
   "source": [
    "y_h.shape"
   ]
  },
  {
   "cell_type": "code",
   "execution_count": 7,
   "metadata": {},
   "outputs": [],
   "source": [
    "# loop over the L1 input and find the ones (indices) that are in the HF input\n",
    "indices = []\n",
    "for i in range(len(x_l2)):\n",
    "    if x_l2[i] in x_h:\n",
    "        indices.append(i)\n"
   ]
  },
  {
   "cell_type": "code",
   "execution_count": 14,
   "metadata": {},
   "outputs": [
    {
     "name": "stdout",
     "output_type": "stream",
     "text": [
      "[3, 4, 5, 24, 25, 26, 51, 52, 53, 60, 61, 62, 105, 106, 107, 156, 157, 158, 180, 181, 182, 255, 256, 257, 267, 268, 269]\n"
     ]
    }
   ],
   "source": [
    "# print the indices as a list\n",
    "print(indices)"
   ]
  },
  {
   "cell_type": "code",
   "execution_count": 9,
   "metadata": {},
   "outputs": [],
   "source": [
    "# compute the ratio\n",
    "r_h = 10**y_h / 10**y_l2[indices]"
   ]
  },
  {
   "cell_type": "code",
   "execution_count": 10,
   "metadata": {},
   "outputs": [],
   "source": [
    "xy_l2 = np.concatenate((x_l2[indices], y_l2[indices]), axis=1)"
   ]
  },
  {
   "cell_type": "code",
   "execution_count": 11,
   "metadata": {},
   "outputs": [
    {
     "data": {
      "text/plain": [
       "(27, 394)"
      ]
     },
     "execution_count": 11,
     "metadata": {},
     "output_type": "execute_result"
    }
   ],
   "source": [
    "xy_l2.shape"
   ]
  },
  {
   "cell_type": "code",
   "execution_count": 12,
   "metadata": {},
   "outputs": [
    {
     "data": {
      "text/plain": [
       "'muse_pre_L2Hr/kf.txt'"
      ]
     },
     "execution_count": 12,
     "metadata": {},
     "output_type": "execute_result"
    }
   ],
   "source": [
    "# save the dataset\n",
    "save_dir_L = 'muse_pre_L2'\n",
    "save_dir_LHr = 'muse_pre_L2Hr'\n",
    "# save_dir_LH = 'muse_L2H'\n",
    "\n",
    "# mkdir -p the dirs\n",
    "import os\n",
    "os.makedirs(save_dir_L, exist_ok=True)\n",
    "os.makedirs(save_dir_LHr, exist_ok=True)\n",
    "# os.makedirs(save_dir_LH, exist_ok=True)\n",
    "\n",
    "np.savetxt(save_dir_L + '/train_input.txt', x_l2)\n",
    "np.savetxt(save_dir_L + '/train_output.txt', y_l2)\n",
    "\n",
    "np.savetxt(save_dir_LHr + '/train_input.txt', x_h)\n",
    "np.savetxt(save_dir_LHr + '/train_output.txt', r_h)\n",
    "\n",
    "# np.savetxt(save_dir_LH + '/train_input.txt', xy_l2)\n",
    "# np.savetxt(save_dir_LH + '/train_output.txt', y_h)\n",
    "\n",
    "# copy kf.txt\n",
    "import shutil\n",
    "shutil.copyfile('./wide/matter_power_297_Box25_Part75_27_Box100_Part300_z0/kf.txt', save_dir_L + '/kf.txt')\n",
    "shutil.copyfile('./wide/matter_power_297_Box25_Part75_27_Box100_Part300_z0/kf.txt', save_dir_LHr + '/kf.txt')\n",
    "# shutil.copyfile('./wide/matter_power_297_Box25_Part75_27_Box100_Part300_z0/kf.txt', save_dir_LH + '/kf.txt')\n"
   ]
  }
 ],
 "metadata": {
  "kernelspec": {
   "display_name": "pytorch-env",
   "language": "python",
   "name": "python3"
  },
  "language_info": {
   "codemirror_mode": {
    "name": "ipython",
    "version": 3
   },
   "file_extension": ".py",
   "mimetype": "text/x-python",
   "name": "python",
   "nbconvert_exporter": "python",
   "pygments_lexer": "ipython3",
   "version": "3.10.16"
  }
 },
 "nbformat": 4,
 "nbformat_minor": 2
}
