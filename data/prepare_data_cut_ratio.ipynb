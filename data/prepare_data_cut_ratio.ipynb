{
 "cells": [
  {
   "cell_type": "code",
   "execution_count": 1,
   "metadata": {},
   "outputs": [],
   "source": [
    "import numpy as np\n",
    "import os"
   ]
  },
  {
   "cell_type": "code",
   "execution_count": 2,
   "metadata": {},
   "outputs": [],
   "source": [
    "# load data\n",
    "\n",
    "# LF input and output\n",
    "x_l1 = np.loadtxt('./narrow/matter_power_564_Box1000_Part750_15_Box1000_Part3000_z0/train_input_fidelity_0.txt')\n",
    "y_l1 = np.loadtxt('./narrow/matter_power_564_Box1000_Part750_15_Box1000_Part3000_z0/train_output_fidelity_0.txt')\n",
    "k_l1 = np.loadtxt('./narrow/matter_power_564_Box1000_Part750_15_Box1000_Part3000_z0/kf.txt')\n",
    "\n",
    "# x_l2 = np.loadtxt('./narrow/matter_power_564_Box250_Part750_15_Box1000_Part3000_z0/train_input_fidelity_0.txt')\n",
    "# y_l2 = np.loadtxt('./narrow/matter_power_564_Box250_Part750_15_Box1000_Part3000_z0/train_output_fidelity_0.txt')\n",
    "# k_l2 = np.loadtxt('./narrow/matter_power_564_Box250_Part750_15_Box1000_Part3000_z0/kf.txt')\n",
    "\n",
    "# HF input and output\n",
    "x_h = np.loadtxt('./narrow/matter_power_564_Box250_Part750_15_Box1000_Part3000_z0/train_input_fidelity_1.txt')\n",
    "y_h = np.loadtxt('./narrow/matter_power_564_Box250_Part750_15_Box1000_Part3000_z0/train_output_fidelity_1.txt')\n",
    "k_h = np.loadtxt('./narrow/matter_power_564_Box250_Part750_15_Box1000_Part3000_z0/kf.txt')\n",
    "\n",
    "dir_L1A = \"N_L1A_z0\"\n",
    "dir_LHA = 'N_L1HAr_z0'\n",
    "# dir_LHB = 'N_LHBr_z0'"
   ]
  },
  {
   "cell_type": "code",
   "execution_count": 3,
   "metadata": {},
   "outputs": [],
   "source": [
    "# L1A\n",
    "\n",
    "k_cut = np.log10(1)  # cut at k=1, find the closest k value in k_l1 and k_l2\n",
    "\n",
    "\n",
    "# locate the index of k_cut in k_l1\n",
    "idx = np.where(k_l1 <= k_cut)[0][-1]"
   ]
  },
  {
   "cell_type": "code",
   "execution_count": 4,
   "metadata": {},
   "outputs": [
    {
     "data": {
      "text/plain": [
       "np.int64(40)"
      ]
     },
     "execution_count": 4,
     "metadata": {},
     "output_type": "execute_result"
    }
   ],
   "source": [
    "idx"
   ]
  },
  {
   "cell_type": "code",
   "execution_count": 5,
   "metadata": {},
   "outputs": [],
   "source": [
    "# L1 and L2 split\n",
    "\n",
    "# locate the index of k_mid in k_l1\n",
    "y_l1A = y_l1[:,:idx]\n",
    "k_l1A = k_l1[:idx]"
   ]
  },
  {
   "cell_type": "code",
   "execution_count": 6,
   "metadata": {},
   "outputs": [],
   "source": [
    "# save the split data\n",
    "# make the directory if not exist\n",
    "\n",
    "if not os.path.exists(dir_L1A):\n",
    "    os.makedirs(dir_L1A)\n",
    "\n",
    "\n",
    "np.savetxt(dir_L1A + '/train_output.txt', y_l1A)\n",
    "\n",
    "# also copy the input data and k data\n",
    "np.savetxt(dir_L1A + '/train_input.txt', x_l1)\n",
    "\n",
    "np.savetxt(dir_L1A + '/kf.txt', k_l1A)\n"
   ]
  },
  {
   "cell_type": "code",
   "execution_count": 7,
   "metadata": {},
   "outputs": [],
   "source": [
    "# loop over the L1 input and find the ones (indices) that are in the HF input\n",
    "indices = []\n",
    "for i in range(len(x_l1)):\n",
    "    if x_l1[i] in x_h:\n",
    "        indices.append(i)\n"
   ]
  },
  {
   "cell_type": "code",
   "execution_count": 8,
   "metadata": {},
   "outputs": [
    {
     "data": {
      "text/plain": [
       "[144, 145, 146, 168, 169, 170, 195, 196, 197, 204, 205, 206, 336, 337, 338]"
      ]
     },
     "execution_count": 8,
     "metadata": {},
     "output_type": "execute_result"
    }
   ],
   "source": [
    "indices"
   ]
  },
  {
   "cell_type": "code",
   "execution_count": 9,
   "metadata": {},
   "outputs": [
    {
     "data": {
      "text/plain": [
       "array([-1.59976085, -1.56002463, -1.5202884 , -1.48055217, -1.44081595,\n",
       "       -1.40107972, -1.36134349, -1.32160727, -1.28187104, -1.24213481,\n",
       "       -1.20239859, -1.16266236, -1.12292613, -1.08318991, -1.04345368,\n",
       "       -1.00371745, -0.96398123, -0.924245  , -0.88450877, -0.84477255,\n",
       "       -0.80503632, -0.76530009, -0.72556387, -0.68582764, -0.64609141,\n",
       "       -0.60635519, -0.56661896, -0.52688273, -0.48714651, -0.44741028,\n",
       "       -0.40767406, -0.36793783, -0.3282016 , -0.28846538, -0.24872915,\n",
       "       -0.20899292, -0.1692567 , -0.12952047, -0.08978424, -0.05004802,\n",
       "       -0.01031179,  0.02942444,  0.06916066,  0.10889689,  0.14863312,\n",
       "        0.18836934,  0.22810557,  0.2678418 ,  0.30757802,  0.34731425,\n",
       "        0.38705048,  0.4267867 ,  0.46652293,  0.50625916,  0.54599538,\n",
       "        0.58573161,  0.62546784,  0.66520406,  0.70494029,  0.74467652,\n",
       "        0.78441274,  0.82414897,  0.8638852 ,  0.90362142])"
      ]
     },
     "execution_count": 9,
     "metadata": {},
     "output_type": "execute_result"
    }
   ],
   "source": [
    "k_h"
   ]
  },
  {
   "cell_type": "code",
   "execution_count": 11,
   "metadata": {},
   "outputs": [],
   "source": [
    "# interpolate hf data to l1a k values\n",
    "from scipy.interpolate import interp1d\n",
    "\n",
    "f = interp1d(k_h, y_h, axis=1, kind='cubic')\n",
    "\n",
    "y_hA = f(k_l1A)"
   ]
  },
  {
   "cell_type": "code",
   "execution_count": 12,
   "metadata": {},
   "outputs": [],
   "source": [
    "y_l1A_H = y_l1A[indices]"
   ]
  },
  {
   "cell_type": "code",
   "execution_count": 13,
   "metadata": {},
   "outputs": [],
   "source": [
    "# create dataset for LF-HF correlation\n",
    "\n",
    "# ratio: y_HF / y_LF\n",
    "# convert back to the original scale\n",
    "r1A = 10**y_hA / 10**y_l1A_H"
   ]
  },
  {
   "cell_type": "code",
   "execution_count": 14,
   "metadata": {},
   "outputs": [],
   "source": [
    "# save the dataset\n",
    "\n",
    "if not os.path.exists(dir_LHA):\n",
    "    os.makedirs(dir_LHA)\n",
    "\n",
    "np.savetxt(dir_LHA + '/train_input.txt', x_h)\n",
    "np.savetxt(dir_LHA + '/train_output.txt', r1A)"
   ]
  }
 ],
 "metadata": {
  "kernelspec": {
   "display_name": "pytorch-env",
   "language": "python",
   "name": "python3"
  },
  "language_info": {
   "codemirror_mode": {
    "name": "ipython",
    "version": 3
   },
   "file_extension": ".py",
   "mimetype": "text/x-python",
   "name": "python",
   "nbconvert_exporter": "python",
   "pygments_lexer": "ipython3",
   "version": "3.10.16"
  }
 },
 "nbformat": 4,
 "nbformat_minor": 2
}
