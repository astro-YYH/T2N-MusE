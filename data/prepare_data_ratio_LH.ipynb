{
 "cells": [
  {
   "cell_type": "code",
   "execution_count": 1,
   "metadata": {},
   "outputs": [],
   "source": [
    "import numpy as np"
   ]
  },
  {
   "cell_type": "code",
   "execution_count": 2,
   "metadata": {},
   "outputs": [],
   "source": [
    "# load data\n",
    "\n",
    "# LF input and output\n",
    "# x_l = np.loadtxt('./narrow/matter_power_564_Box1000_Part750_15_Box1000_Part3000_z0/train_input_fidelity_0.txt')\n",
    "# y_l = np.loadtxt('./narrow/matter_power_564_Box1000_Part750_15_Box1000_Part3000_z0/train_output_fidelity_0.txt')\n",
    "# k_l = np.loadtxt('./narrow/matter_power_564_Box1000_Part750_15_Box1000_Part3000_z0/kf.txt')\n",
    "\n",
    "x_l = np.loadtxt('./narrow/matter_power_564_Box250_Part750_15_Box1000_Part3000_z0/train_input_fidelity_0.txt')\n",
    "y_l = np.loadtxt('./narrow/matter_power_564_Box250_Part750_15_Box1000_Part3000_z0/train_output_fidelity_0.txt')\n",
    "k_l = np.loadtxt('./narrow/matter_power_564_Box250_Part750_15_Box1000_Part3000_z0/kf.txt')\n",
    "\n",
    "# HF input and output\n",
    "x_h = np.loadtxt('./narrow/matter_power_564_Box250_Part750_15_Box1000_Part3000_z0/train_input_fidelity_1.txt')\n",
    "y_h = np.loadtxt('./narrow/matter_power_564_Box250_Part750_15_Box1000_Part3000_z0/train_output_fidelity_1.txt')\n",
    "k_h = np.loadtxt('./narrow/matter_power_564_Box250_Part750_15_Box1000_Part3000_z0/kf.txt')\n",
    "\n",
    "# save_dir = 'N_L1Hr_z0'\n",
    "save_dir = 'N_L2Hr_z0'"
   ]
  },
  {
   "cell_type": "code",
   "execution_count": 3,
   "metadata": {},
   "outputs": [],
   "source": [
    "# loop over the L1 input and find the ones (indices) that are in the HF input\n",
    "indices = []\n",
    "for i in range(len(x_l)):\n",
    "    if x_l[i] in x_h:\n",
    "        indices.append(i)\n"
   ]
  },
  {
   "cell_type": "code",
   "execution_count": 4,
   "metadata": {},
   "outputs": [
    {
     "data": {
      "text/plain": [
       "[144, 145, 146, 168, 169, 170, 195, 196, 197, 204, 205, 206, 336, 337, 338]"
      ]
     },
     "execution_count": 4,
     "metadata": {},
     "output_type": "execute_result"
    }
   ],
   "source": [
    "indices"
   ]
  },
  {
   "cell_type": "code",
   "execution_count": 5,
   "metadata": {},
   "outputs": [
    {
     "data": {
      "text/plain": [
       "array([[ 2.851330e-01,  4.779255e-02,  6.581738e-01,  2.289362e-09,\n",
       "         9.536791e-01, -7.590426e-01, -1.289894e-01,  1.459309e-01,\n",
       "         3.006206e+00,  2.186170e-02],\n",
       "       [ 2.919947e-01,  4.948404e-02,  7.241312e-01,  2.100709e-09,\n",
       "         9.866578e-01, -9.824468e-01, -9.215426e-01,  7.109043e-02,\n",
       "         2.370745e+00, -6.329787e-03],\n",
       "       [ 3.272606e-01,  4.523936e-02,  6.764362e-01,  1.958865e-09,\n",
       "         9.744238e-01, -1.267553e+00,  1.848404e-01,  9.518617e-02,\n",
       "         3.534929e+00, -2.026596e-02],\n",
       "       [ 2.776330e-01,  4.648404e-02,  6.478901e-01,  1.968794e-09,\n",
       "         9.628103e-01, -8.739362e-01, -3.045213e-01,  1.401862e-01,\n",
       "         2.782801e+00, -2.750000e-02],\n",
       "       [ 2.964628e-01,  5.031383e-02,  6.819326e-01,  1.939007e-09,\n",
       "         9.894060e-01, -1.085638e+00, -9.481383e-01,  7.444149e-02,\n",
       "         3.532447e+00,  1.739362e-02],\n",
       "       [ 3.488032e-01,  4.728191e-02,  7.175709e-01,  2.439716e-09,\n",
       "         9.804521e-01, -1.154787e+00,  4.800532e-01,  1.050798e-01,\n",
       "         2.757979e+00,  9.308511e-03],\n",
       "       [ 2.619947e-01,  5.049468e-02,  6.634929e-01,  2.245390e-09,\n",
       "         9.747784e-01, -9.728723e-01,  5.984043e-02,  1.216755e-01,\n",
       "         3.239539e+00,  2.515957e-02],\n",
       "       [ 2.966223e-01,  4.571809e-02,  6.916844e-01,  1.907801e-09,\n",
       "         9.546543e-01, -8.505319e-01, -8.550532e-01,  1.031649e-01,\n",
       "         3.184929e+00, -2.505319e-02],\n",
       "       [ 3.358777e-01,  4.812234e-02,  7.363652e-01,  2.113475e-09,\n",
       "         9.917110e-01, -1.226064e+00, -9.308511e-03,  6.997340e-02,\n",
       "         2.705851e+00, -1.223404e-03],\n",
       "       [ 2.755585e-01,  5.022872e-02,  6.510816e-01,  2.241135e-09,\n",
       "         9.563387e-01, -1.092021e+00, -4.002660e-01,  9.598404e-02,\n",
       "         2.986348e+00, -2.707447e-02],\n",
       "       [ 3.057181e-01,  4.559043e-02,  6.879610e-01,  2.127660e-09,\n",
       "         9.908245e-01, -1.157979e+00, -6.316489e-01,  6.710106e-02,\n",
       "         3.323936e+00,  2.473404e-02],\n",
       "       [ 3.419415e-01,  4.828191e-02,  7.296277e-01,  1.863830e-09,\n",
       "         9.730940e-01, -8.792553e-01,  2.805851e-01,  1.406649e-01,\n",
       "         2.710816e+00, -4.202128e-03],\n",
       "       [ 2.608777e-01,  4.667553e-02,  6.900887e-01,  1.948936e-09,\n",
       "         9.516401e-01, -8.781915e-01, -7.938830e-01,  1.087500e-01,\n",
       "         2.827482e+00,  1.143617e-02],\n",
       "       [ 3.093883e-01,  4.787766e-02,  6.471809e-01,  2.038298e-09,\n",
       "         9.913564e-01, -1.237766e+00, -3.337766e-01,  6.534574e-02,\n",
       "         3.470390e+00, -9.521277e-03],\n",
       "       [ 3.401862e-01,  4.920745e-02,  7.157979e-01,  2.382979e-09,\n",
       "         9.793883e-01, -1.002660e+00,  1.715426e-01,  1.449734e-01,\n",
       "         2.517199e+00, -1.260638e-02]])"
      ]
     },
     "execution_count": 5,
     "metadata": {},
     "output_type": "execute_result"
    }
   ],
   "source": [
    "x_l[indices]"
   ]
  },
  {
   "cell_type": "code",
   "execution_count": 6,
   "metadata": {},
   "outputs": [
    {
     "data": {
      "text/plain": [
       "array([-1.59976085, -1.56002463, -1.5202884 , -1.48055217, -1.44081595,\n",
       "       -1.40107972, -1.36134349, -1.32160727, -1.28187104, -1.24213481,\n",
       "       -1.20239859, -1.16266236, -1.12292613, -1.08318991, -1.04345368,\n",
       "       -1.00371745, -0.96398123, -0.924245  , -0.88450877, -0.84477255,\n",
       "       -0.80503632, -0.76530009, -0.72556387, -0.68582764, -0.64609141,\n",
       "       -0.60635519, -0.56661896, -0.52688273, -0.48714651, -0.44741028,\n",
       "       -0.40767406, -0.36793783, -0.3282016 , -0.28846538, -0.24872915,\n",
       "       -0.20899292, -0.1692567 , -0.12952047, -0.08978424, -0.05004802,\n",
       "       -0.01031179,  0.02942444,  0.06916066,  0.10889689,  0.14863312,\n",
       "        0.18836934,  0.22810557,  0.2678418 ,  0.30757802,  0.34731425,\n",
       "        0.38705048,  0.4267867 ,  0.46652293,  0.50625916,  0.54599538,\n",
       "        0.58573161,  0.62546784,  0.66520406,  0.70494029,  0.74467652,\n",
       "        0.78441274,  0.82414897,  0.8638852 ,  0.90362142])"
      ]
     },
     "execution_count": 6,
     "metadata": {},
     "output_type": "execute_result"
    }
   ],
   "source": [
    "k_h"
   ]
  },
  {
   "cell_type": "code",
   "execution_count": 7,
   "metadata": {},
   "outputs": [],
   "source": [
    "# ratio\n",
    "# convert back to the original scale\n",
    "rat = 10**y_h / 10**y_l[indices]"
   ]
  },
  {
   "cell_type": "code",
   "execution_count": 8,
   "metadata": {},
   "outputs": [],
   "source": [
    "# save the dataset\n",
    "# mkdir if not exist\n",
    "import os\n",
    "if not os.path.exists(save_dir):\n",
    "    os.makedirs(save_dir)\n",
    "\n",
    "np.savetxt(save_dir + '/train_input.txt', x_h)\n",
    "np.savetxt(save_dir + '/train_output.txt', rat)\n",
    "\n",
    "# save k_h\n",
    "np.savetxt(save_dir + '/kf.txt', k_l)"
   ]
  },
  {
   "cell_type": "code",
   "execution_count": null,
   "metadata": {},
   "outputs": [],
   "source": []
  }
 ],
 "metadata": {
  "kernelspec": {
   "display_name": "pytorch-env",
   "language": "python",
   "name": "python3"
  },
  "language_info": {
   "codemirror_mode": {
    "name": "ipython",
    "version": 3
   },
   "file_extension": ".py",
   "mimetype": "text/x-python",
   "name": "python",
   "nbconvert_exporter": "python",
   "pygments_lexer": "ipython3",
   "version": "3.10.16"
  }
 },
 "nbformat": 4,
 "nbformat_minor": 2
}
