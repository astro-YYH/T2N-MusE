{
 "cells": [
  {
   "cell_type": "code",
   "execution_count": 2,
   "metadata": {},
   "outputs": [],
   "source": [
    "import numpy as np\n",
    "import os"
   ]
  },
  {
   "cell_type": "code",
   "execution_count": 2,
   "metadata": {},
   "outputs": [],
   "source": [
    "# # Goku-N\n",
    "# # load data and interpolate (loop over all cosmologies)\n",
    "# # L1A\n",
    "# dir_l1_base = '/home/yang/Desktop/Goku_matter_pow/narrow/matter_power/cosmo_10p_Box1000_Part750'\n",
    "# # zs_obj = zs_obj = np.linspace(0, 3, 40) # 40 redshifts\n",
    "\n",
    "\n",
    "# x_l = np.loadtxt('./narrow/matter_power_564_Box1000_Part750_15_Box1000_Part3000_z0/train_input_fidelity_0.txt')\n",
    "# k_cut_l1 = 1.5\n",
    "# lgk_l1A, y_l1A = load_interpolate(dir_l1_base, k_cut, zs_obj) # lgk and lgP\n",
    "\n",
    "# # L2\n",
    "# dir_l2_base = '/home/yang/Desktop/Goku_matter_pow/narrow/matter_power/cosmo_10p_Box250_Part750'\n",
    "# # zs_obj = zs_obj = np.linspace(0, 3, 40) # 40 redshifts\n",
    "# # x_l2 = np.loadtxt('./narrow/matter_power_564_Box1000_Part750_15_Box1000_Part3000_z0/train_input_fidelity_0.txt')\n",
    "# k_cut_l2 = 11\n",
    "# lgk_l2, y_l2 = load_interpolate(dir_l2_base, k_cut, zs_obj)\n",
    "\n",
    "# # output data\n",
    "# dir_L1A = \"N_L1A_c1.5\"\n",
    "# dir_L2 = \"N_L2\"\n",
    "\n",
    "# # dirs to save data\n",
    "# dir_L1HAr = \"N_L1HAr_c1.5\"\n",
    "# dir_L2Hr = \"N_L2Hr\"\n",
    "\n",
    "# dir_H = \"N_H\"  # HF data (not used for training, only for testing)\n",
    "\n",
    "# # load HF data\n",
    "# dir_h_base = '/home/yang/Desktop/Goku_matter_pow/narrow/matter_power/cosmo_10p_Box1000_Part3000'\n",
    "# x_h = np.loadtxt('./narrow/matter_power_564_Box1000_Part750_15_Box1000_Part3000_z0/train_input_fidelity_1.txt')\n",
    "# k_cut_h = 15\n",
    "# lgk_h, y_h = load_interpolate(dir_h_base, k_cut, zs_obj, flatten=0) # lgk and lgP"
   ]
  },
  {
   "cell_type": "code",
   "execution_count": 3,
   "metadata": {},
   "outputs": [],
   "source": [
    "# # Goku-W\n",
    "\n",
    "# # load data and interpolate (loop over all cosmologies)\n",
    "# # L1A\n",
    "# dir_l1_base = '/home/yang/Desktop/Goku_matter_pow/wide/matter_power/cosmo_10p_Box1000_Part750'\n",
    "# # zs_obj = zs_obj = np.linspace(0, 3, 40) # 40 redshifts\n",
    "\n",
    "\n",
    "# x_l = np.loadtxt('./wide/matter_power_564_Box1000_Part750_21_Box1000_Part3000_z0/train_input_fidelity_0.txt')\n",
    "# k_cut_l1 = 1.5\n",
    "\n",
    "\n",
    "# # L2\n",
    "# dir_l2_base = '/home/yang/Desktop/Goku_matter_pow/wide/matter_power/cosmo_10p_Box250_Part750'\n",
    "# # zs_obj = zs_obj = np.linspace(0, 3, 40) # 40 redshifts\n",
    "# # x_l2 = np.loadtxt('./narrow/matter_power_564_Box1000_Part750_15_Box1000_Part3000_z0/train_input_fidelity_0.txt')\n",
    "# k_cut_l2 = 11\n",
    "\n",
    "\n",
    "# # output data\n",
    "# dir_L1A = \"W_L1A\"\n",
    "# dir_L2 = \"W_L2\"\n",
    "\n",
    "# # dirs to save data\n",
    "# dir_L1HAr = \"W_L1HAr\"\n",
    "# dir_L2Hr = \"W_L2Hr\"\n",
    "\n",
    "# dir_H = \"W_H\"  # HF data (not used for training, only for testing)\n",
    "\n",
    "# # load HF data\n",
    "# dir_h_base = '/home/yang/Desktop/Goku_matter_pow/wide/matter_power/cosmo_10p_Box1000_Part3000'\n",
    "# x_h = np.loadtxt('./wide/matter_power_564_Box1000_Part750_21_Box1000_Part3000_z0/train_input_fidelity_1.txt')\n",
    "# k_cut_h = 15\n"
   ]
  },
  {
   "cell_type": "code",
   "execution_count": null,
   "metadata": {},
   "outputs": [],
   "source": [
    "def combine_data(dir_1, dir_2, dir_out):\n",
    "    # mkdir dir_out if it does not exist\n",
    "    if not os.path.exists(dir_out):\n",
    "        os.makedirs(dir_out)\n",
    "    # cp kf.txt and zs.txt from dir_1 if they exist\n",
    "    if os.path.exists(os.path.join(dir_1, 'kf.txt')):\n",
    "        os.system(f'cp {os.path.join(dir_1, \"kf.txt\")} {dir_out}')\n",
    "    if os.path.exists(os.path.join(dir_1, 'zs.txt')):\n",
    "        os.system(f'cp {os.path.join(dir_1, \"zs.txt\")} {dir_out}')\n",
    "    # combine train_input.txt and train_output.txt\n",
    "    x1 = np.loadtxt(os.path.join(dir_1, 'train_input.txt'))\n",
    "    x2 = np.loadtxt(os.path.join(dir_2, 'train_input.txt'))\n",
    "    y1 = np.loadtxt(os.path.join(dir_1, 'train_output.txt'))\n",
    "    y2 = np.loadtxt(os.path.join(dir_2, 'train_output.txt'))\n",
    "\n",
    "    x_combined = np.concatenate((x1, x2), axis=0, dtype=np.float32)\n",
    "    y_combined = np.concatenate((y1, y2), axis=0, dtype=np.float32)\n",
    "\n",
    "    # print data type\n",
    "    print(f'x_combined dtype: {x_combined.dtype}')\n",
    "    print(f'y_combined dtype: {y_combined.dtype}')\n",
    "\n",
    "    # save combined data as .npy (more efficient and compact)\n",
    "    np.save(os.path.join(dir_out, 'train_input.npy'), x_combined)\n",
    "    np.save(os.path.join(dir_out, 'train_output.npy'), y_combined)\n",
    "    # # save combined data as .txt\n",
    "    # np.savetxt(os.path.join(dir_out, 'train_input.txt'), x_combined)\n",
    "    # np.savetxt(os.path.join(dir_out, 'train_output.txt'), y_combined)\n",
    "\n"
   ]
  },
  {
   "cell_type": "code",
   "execution_count": 21,
   "metadata": {},
   "outputs": [],
   "source": [
    "# dir_1 = \"W_L1A\"\n",
    "# dir_2 = \"N_L1A\"\n",
    "\n",
    "# dir_out = \"L1A\"\n",
    "\n",
    "# combine_data(dir_1, dir_2, dir_out)"
   ]
  },
  {
   "cell_type": "code",
   "execution_count": 22,
   "metadata": {},
   "outputs": [
    {
     "name": "stdout",
     "output_type": "stream",
     "text": [
      "x_combined dtype: float32\n",
      "y_combined dtype: float32\n",
      "x_combined dtype: float32\n",
      "y_combined dtype: float32\n",
      "x_combined dtype: float32\n",
      "y_combined dtype: float32\n",
      "x_combined dtype: float32\n",
      "y_combined dtype: float32\n"
     ]
    }
   ],
   "source": [
    "out_list = [\"L1A\", \"L2\", \"L1HAr\", \"L2Hr\"]\n",
    "\n",
    "for out in out_list:\n",
    "    dir_1 = f\"W_{out}\"\n",
    "    dir_2 = f\"N_{out}\"\n",
    "\n",
    "    dir_out = out\n",
    "\n",
    "    combine_data(dir_1, dir_2, dir_out)"
   ]
  },
  {
   "cell_type": "code",
   "execution_count": 3,
   "metadata": {},
   "outputs": [],
   "source": [
    "ind_N = np.array([144, 145, 146, 168, 169, 170, 195, 196, 197, 204, 205, 206, 336, 337, 338])\n",
    "ind_N_new = ind_N + 564"
   ]
  },
  {
   "cell_type": "code",
   "execution_count": 4,
   "metadata": {},
   "outputs": [
    {
     "data": {
      "text/plain": [
       "array([708, 709, 710, 732, 733, 734, 759, 760, 761, 768, 769, 770, 900,\n",
       "       901, 902])"
      ]
     },
     "execution_count": 4,
     "metadata": {},
     "output_type": "execute_result"
    }
   ],
   "source": [
    "ind_N_new"
   ]
  },
  {
   "cell_type": "code",
   "execution_count": null,
   "metadata": {},
   "outputs": [],
   "source": []
  }
 ],
 "metadata": {
  "kernelspec": {
   "display_name": "pytorch-env",
   "language": "python",
   "name": "python3"
  },
  "language_info": {
   "codemirror_mode": {
    "name": "ipython",
    "version": 3
   },
   "file_extension": ".py",
   "mimetype": "text/x-python",
   "name": "python",
   "nbconvert_exporter": "python",
   "pygments_lexer": "ipython3",
   "version": "3.10.16"
  }
 },
 "nbformat": 4,
 "nbformat_minor": 2
}
