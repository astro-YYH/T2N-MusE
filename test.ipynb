{
 "cells": [
  {
   "cell_type": "code",
   "execution_count": 1,
   "metadata": {},
   "outputs": [],
   "source": [
    "import torch\n",
    "import numpy as np\n",
    "import matplotlib.pyplot as plt\n",
    "from train_model import train_NN\n"
   ]
  },
  {
   "cell_type": "code",
   "execution_count": 2,
   "metadata": {},
   "outputs": [
    {
     "name": "stdout",
     "output_type": "stream",
     "text": [
      "Using device: cuda\n"
     ]
    }
   ],
   "source": [
    "# Check if GPU is available\n",
    "device = torch.device(\"cuda\" if torch.cuda.is_available() else \"cpu\")\n",
    "print(\"Using device:\", device)"
   ]
  },
  {
   "cell_type": "code",
   "execution_count": null,
   "metadata": {},
   "outputs": [],
   "source": [
    "# load data\n",
    "data_x = np.loadtxt('/home/yang/Desktop/GitReps/GokuEmu/data/narrow/matter_power_297_Box100_Part75_27_Box100_Part300_z0/train_input_fidelity_0.txt')\n",
    "data_y = np.loadtxt('/home/yang/Desktop/GitReps/GokuEmu/data/narrow/matter_power_297_Box100_Part75_27_Box100_Part300_z0/train_output_fidelity_0.txt')\n",
    "bound_x = np.loadtxt('/home/yang/Desktop/GitReps/GokuEmu/data/narrow/matter_power_297_Box100_Part75_27_Box100_Part300_z0/input_limits.txt')"
   ]
  },
  {
   "cell_type": "code",
   "execution_count": 4,
   "metadata": {},
   "outputs": [
    {
     "data": {
      "text/plain": [
       "array([[ 2.737879e-01,  4.814141e-02,  6.465657e-01, ...,  1.386364e-01,\n",
       "         3.329966e+00,  2.424242e-03],\n",
       "       [ 3.092424e-01,  4.595960e-02,  7.088552e-01, ...,  6.803030e-02,\n",
       "         2.934007e+00,  1.434343e-02],\n",
       "       [ 3.201515e-01,  5.022222e-02,  6.977441e-01, ...,  1.077273e-01,\n",
       "         2.311785e+00, -2.808081e-02],\n",
       "       ...,\n",
       "       [ 2.659091e-01,  4.949495e-02,  7.172727e-01, ...,  6.227273e-02,\n",
       "         3.051852e+00, -2.747475e-02],\n",
       "       [ 3.174242e-01,  4.844444e-02,  6.586869e-01, ...,  1.134848e-01,\n",
       "         3.688215e+00,  1.777778e-02],\n",
       "       [ 3.307576e-01,  4.696970e-02,  6.950505e-01, ...,  1.419697e-01,\n",
       "         2.618182e+00, -1.414141e-03]])"
      ]
     },
     "execution_count": 4,
     "metadata": {},
     "output_type": "execute_result"
    }
   ],
   "source": [
    "data_x"
   ]
  },
  {
   "cell_type": "code",
   "execution_count": 5,
   "metadata": {},
   "outputs": [
    {
     "data": {
      "text/plain": [
       "array([[ 2.6e-01,  3.5e-01],\n",
       "       [ 4.5e-02,  5.1e-02],\n",
       "       [ 6.4e-01,  7.4e-01],\n",
       "       [ 1.7e-09,  2.5e-09],\n",
       "       [ 9.5e-01,  1.0e+00],\n",
       "       [-1.3e+00, -7.0e-01],\n",
       "       [-1.0e+00,  5.0e-01],\n",
       "       [ 6.0e-02,  1.5e-01],\n",
       "       [ 2.3e+00,  3.7e+00],\n",
       "       [-3.0e-02,  3.0e-02]])"
      ]
     },
     "execution_count": 5,
     "metadata": {},
     "output_type": "execute_result"
    }
   ],
   "source": [
    "bound_x"
   ]
  },
  {
   "cell_type": "code",
   "execution_count": 6,
   "metadata": {},
   "outputs": [
    {
     "data": {
      "text/plain": [
       "array([ 2.6e-01,  4.5e-02,  6.4e-01,  1.7e-09,  9.5e-01, -1.3e+00,\n",
       "       -1.0e+00,  6.0e-02,  2.3e+00, -3.0e-02])"
      ]
     },
     "execution_count": 6,
     "metadata": {},
     "output_type": "execute_result"
    }
   ],
   "source": [
    "bound_x[:,0]"
   ]
  },
  {
   "cell_type": "code",
   "execution_count": 8,
   "metadata": {},
   "outputs": [],
   "source": [
    "# normalize data x\n",
    "data_x = (data_x - bound_x[:,0]) / (bound_x[:,1] - bound_x[:,0])"
   ]
  },
  {
   "cell_type": "code",
   "execution_count": 9,
   "metadata": {},
   "outputs": [
    {
     "data": {
      "text/plain": [
       "array([[0.15319889, 0.52356833, 0.065657  , ..., 0.87373778, 0.73569   ,\n",
       "        0.54040403],\n",
       "       [0.54713778, 0.15993333, 0.688552  , ..., 0.08922556, 0.45286214,\n",
       "        0.73905717],\n",
       "       [0.66835   , 0.87037   , 0.577441  , ..., 0.53030333, 0.00841786,\n",
       "        0.0319865 ],\n",
       "       ...,\n",
       "       [0.06565667, 0.74915833, 0.772727  , ..., 0.02525256, 0.53703714,\n",
       "        0.0420875 ],\n",
       "       [0.63804667, 0.57407333, 0.186869  , ..., 0.59427556, 0.99158214,\n",
       "        0.79629633],\n",
       "       [0.78619556, 0.32828333, 0.550505  , ..., 0.91077444, 0.22727286,\n",
       "        0.47643098]])"
      ]
     },
     "execution_count": 9,
     "metadata": {},
     "output_type": "execute_result"
    }
   ],
   "source": [
    "data_x"
   ]
  },
  {
   "cell_type": "code",
   "execution_count": 10,
   "metadata": {},
   "outputs": [],
   "source": [
    "# numpy to tensor\n",
    "tensor_x = torch.tensor(data_x, dtype=torch.float32).to(device)\n",
    "tensor_y = torch.tensor(data_y, dtype=torch.float32).to(device)\n"
   ]
  },
  {
   "cell_type": "code",
   "execution_count": 11,
   "metadata": {},
   "outputs": [
    {
     "name": "stdout",
     "output_type": "stream",
     "text": [
      "🔹 Using full-batch training (batch_size=297)\n",
      "Epoch 0, Train Loss: 5.554779, Val Loss: 5.554779, LR: 0.100000\n",
      "Epoch 100, Train Loss: 0.042501, Val Loss: 0.042501, LR: 0.100000\n",
      "Epoch 200, Train Loss: 0.023305, Val Loss: 0.023305, LR: 0.050000\n",
      "Epoch 300, Train Loss: 0.022777, Val Loss: 0.022777, LR: 0.025000\n",
      "Stopping early at epoch 305\n",
      "Epoch 305, Train Loss: 0.022777, Val Loss: 0.022777, LR: 0.025000\n"
     ]
    },
    {
     "data": {
      "text/plain": [
       "(0.022776756435632706, 0.022776756435632706)"
      ]
     },
     "execution_count": 11,
     "metadata": {},
     "output_type": "execute_result"
    }
   ],
   "source": [
    "# train model\n",
    "train_NN(num_layers=3, hidden_size=128, train_x=tensor_x, train_y=tensor_y, device=device)"
   ]
  }
 ],
 "metadata": {
  "kernelspec": {
   "display_name": "pytorch-env",
   "language": "python",
   "name": "python3"
  },
  "language_info": {
   "codemirror_mode": {
    "name": "ipython",
    "version": 3
   },
   "file_extension": ".py",
   "mimetype": "text/x-python",
   "name": "python",
   "nbconvert_exporter": "python",
   "pygments_lexer": "ipython3",
   "version": "3.10.16"
  }
 },
 "nbformat": 4,
 "nbformat_minor": 2
}
