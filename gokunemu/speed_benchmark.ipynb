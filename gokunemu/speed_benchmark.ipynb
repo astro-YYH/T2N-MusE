{
 "cells": [
  {
   "cell_type": "code",
   "execution_count": 1,
   "metadata": {},
   "outputs": [],
   "source": [
    "import torch\n",
    "import numpy as np\n",
    "import matplotlib.pyplot as plt\n",
    "import os\n",
    "import sys\n",
    "sys.path.append(\"../\") # Add parent directory to path\n",
    "from mfbox import gokunet_df_ratio\n",
    "from scipy.interpolate import interp1d"
   ]
  },
  {
   "cell_type": "code",
   "execution_count": 2,
   "metadata": {},
   "outputs": [
    {
     "name": "stdout",
     "output_type": "stream",
     "text": [
      "Using device: cpu\n"
     ]
    }
   ],
   "source": [
    "# Check if GPU is available\n",
    "# if torch.cuda.is_available():\n",
    "#     device = torch.device(\"cuda\")\n",
    "#     print(\"Using GPU:\", torch.cuda.get_device_name(0))\n",
    "device = torch.device(\"cpu\")\n",
    "print(\"Using device:\", device)"
   ]
  },
  {
   "cell_type": "code",
   "execution_count": 3,
   "metadata": {},
   "outputs": [],
   "source": [
    "lna_obj = np.linspace(np.log(1), np.log(1/(1+3)), 30)\n",
    "zs_obj = 1/np.exp(lna_obj) - 1\n",
    "zs_old = [0, 0.2, 0.5, 1, 2, 3]\n",
    "# insert the old zs_obj into the new zs_obj\n",
    "zs_obj = np.sort(np.append(zs_obj, zs_old))\n",
    "# remove duplicates\n",
    "zs_obj = np.unique(zs_obj)"
   ]
  },
  {
   "cell_type": "code",
   "execution_count": 4,
   "metadata": {},
   "outputs": [],
   "source": [
    "# load input data\n",
    "x_test = np.loadtxt(\"../data_local/W_H/train_input.txt\")\n",
    "lgk_test = np.loadtxt(\"../data_local/W_H/kf.txt\")\n",
    "k_test = 10**lgk_test\n",
    "\n",
    "n_k = len(lgk_test)\n",
    "n_z = len(zs_obj)\n",
    "\n",
    "# normalize input data\n",
    "# bounds = np.loadtxt(\"../data_local/narrow/matter_power_564_Box250_Part750_15_Box1000_Part3000_z0/input_limits.txt\")\n",
    "bounds_path = \"../data_local/wide/matter_power_564_Box250_Part750_21_Box1000_Part3000_z0/input_limits.txt\"\n",
    "# x_test = (x_test - bounds[:,0]) / (bounds[:,1] - bounds[:,0])\n",
    "\n",
    "y_test = np.loadtxt(\"../data_local/W_H/train_output.txt\")\n",
    "# reshape y_test to match the number of k values and z values\n",
    "# y_test = y_test[:, i_z*n_k:(i_z+1)*n_k]\n",
    "y_test = y_test.reshape(-1, n_z, n_k)\n",
    "\n",
    "y_test = 10**y_test\n",
    "\n",
    "ind_h = [24, 25, 26, 54, 55, 56, 72, 73, 74, 207, 208, 209, 240, 241, 242, 300, 301, 302, 522, 523, 524]\n",
    "\n",
    "lgk_l1 = np.loadtxt(\"../data_local/W_L1A/kf.txt\")\n",
    "k_l1 = 10**lgk_l1\n",
    "n_k_l1 = len(lgk_l1)\n",
    "y_l1 = np.loadtxt(\"../data_local/W_L1A/train_output.txt\")\n",
    "\n",
    "y_l1 = 10**y_l1[ind_h]\n",
    "y_l1 = y_l1.reshape(-1, n_z, n_k_l1)\n",
    "\n",
    "lgk_l2 = np.loadtxt(\"../data_local/W_L2/kf.txt\")\n",
    "k_l2 = 10**lgk_l2\n",
    "n_k_l2 = len(lgk_l2)\n",
    "y_l2 = np.loadtxt(\"../data_local/W_L2/train_output.txt\")\n",
    "y_l2 = 10**y_l2[ind_h]\n",
    "y_l2 = y_l2.reshape(-1, n_z, n_k_l2)\n",
    "\n"
   ]
  },
  {
   "cell_type": "code",
   "execution_count": 5,
   "metadata": {},
   "outputs": [
    {
     "data": {
      "text/plain": [
       "(21, 34, 143)"
      ]
     },
     "execution_count": 5,
     "metadata": {},
     "output_type": "execute_result"
    }
   ],
   "source": [
    "y_test.shape"
   ]
  },
  {
   "cell_type": "code",
   "execution_count": 6,
   "metadata": {},
   "outputs": [
    {
     "data": {
      "text/plain": [
       "(21, 10)"
      ]
     },
     "execution_count": 6,
     "metadata": {},
     "output_type": "execute_result"
    }
   ],
   "source": [
    "x_test.shape"
   ]
  },
  {
   "cell_type": "code",
   "execution_count": 7,
   "metadata": {},
   "outputs": [],
   "source": [
    "def power_ratio(k, y_pred, k_test, y_test):\n",
    "\n",
    "    # find the indices of k_common in k_test\n",
    "    k_indices = np.where((k_test >= k.min()) & (k_test < k.max()))[0]\n",
    "    k_common = k_test[k_indices]\n",
    "    y_test_common = y_test[k_indices]\n",
    "\n",
    "    # interpolate the values of y_pred at the k_common points in log space\n",
    "    f = interp1d(np.log10(k), np.log10(y_pred), axis=0, kind='linear')\n",
    "    y_pred_interp = f(np.log10(k_common))\n",
    "    # convert back to linear space\n",
    "    y_pred_interp = 10**y_pred_interp\n",
    "\n",
    "    # calculate the ratio\n",
    "    ratio = y_pred_interp / y_test_common\n",
    "    print(\"y_test_common\", y_test_common)\n",
    "    print(\"y_pred_interp\", y_pred_interp)\n",
    "\n",
    "    return k_common, ratio\n"
   ]
  },
  {
   "cell_type": "code",
   "execution_count": 8,
   "metadata": {},
   "outputs": [],
   "source": [
    "\n",
    "\n",
    "def rel_MAEs(x1, y1, x2, y2):\n",
    "    # Transform x1, x2, y1, and y2 into log10 space\n",
    "    log10_x1 = np.log10(x1)\n",
    "    log10_x2 = np.log10(x2)\n",
    "    log10_y1 = np.log10(y1)\n",
    "    log10_y2 = np.log10(y2)\n",
    "\n",
    "    # Define the common log10(x) range for interpolation\n",
    "    common_log10_x_min = max(min(log10_x1), min(log10_x2))\n",
    "    common_log10_x_max = min(max(log10_x1), max(log10_x2))\n",
    "    ind_com = np.where((log10_x1 >= common_log10_x_min) & (log10_x1 <= common_log10_x_max) )\n",
    "\n",
    "    common_log10_x = log10_x1[ind_com]\n",
    "\n",
    "    # Interpolate log10_y1 and log10_y2 to the common log10_x grid\n",
    "    interp_log10_y1 = interp1d(log10_x1, log10_y1, kind='linear')(common_log10_x)\n",
    "    interp_log10_y2 = interp1d(log10_x2, log10_y2, kind='linear')(common_log10_x)\n",
    "\n",
    "    # Transform interpolated log10 values back to the original space\n",
    "    interp_y1 = 10**interp_log10_y1\n",
    "    interp_y2 = 10**interp_log10_y2\n",
    "    common_x = 10**common_log10_x  # Transform common_log10_x back to original x values\n",
    "\n",
    "    # Compute (y2 - y1) / y1 in original space\n",
    "    rMAE_y = np.abs((interp_y2 / interp_y1) - 1)\n",
    "    return common_x, rMAE_y\n",
    "\n",
    "def rMAE_av_cosmo(k_test, y_test, k_pred, y_pred, exclude=None):\n",
    "    Ps_pred = y_pred\n",
    "    Ps_sim = y_test\n",
    "    k_sim = k_test\n",
    "    k, rAEs = rel_MAEs(k_sim, Ps_sim, k_pred, Ps_pred)\n",
    "    if exclude is not None:  # exclude some cosmologies\n",
    "        rAEs = np.delete(rAEs, exclude, axis=0)\n",
    "    rMAE_av = np.mean(rAEs, axis=0)\n",
    "\n",
    "    # rAE_av_k = np.mean(rAEs, axis=1)\n",
    "\n",
    "    # min and max\n",
    "    rMAE_min, rMAE_max = np.min(rAEs, axis=0), np.max(rAEs, axis=0)\n",
    "    return k, rMAE_av, rMAE_min, rMAE_max, rAEs"
   ]
  },
  {
   "cell_type": "code",
   "execution_count": 9,
   "metadata": {},
   "outputs": [],
   "source": [
    "from gokunemu import MatterPowerEmulator\n",
    "emu = MatterPowerEmulator(device=device)"
   ]
  },
  {
   "cell_type": "code",
   "execution_count": 10,
   "metadata": {},
   "outputs": [],
   "source": [
    "k, y_h_pred = emu.predict(x_test, redshifts=zs_obj)"
   ]
  },
  {
   "cell_type": "code",
   "execution_count": 11,
   "metadata": {},
   "outputs": [],
   "source": [
    "from matplotlib import patches\n"
   ]
  },
  {
   "cell_type": "code",
   "execution_count": 12,
   "metadata": {},
   "outputs": [],
   "source": [
    "# load input data\n",
    "x_test_N = np.loadtxt(\"../data_local/N_H/train_input.txt\")\n",
    "lgk_test = np.loadtxt(\"../data_local/N_H/kf.txt\")\n",
    "# k_test = 10**lgk_test\n",
    "\n",
    "# n_k = len(lgk_test)\n",
    "# n_z = len(zs_obj)\n",
    "\n",
    "# normalize input data\n",
    "# bounds = np.loadtxt(\"../data_local/narrow/matter_power_564_Box250_Part750_15_Box1000_Part3000_z0/input_limits.txt\")\n",
    "# bounds_path = \"../data_local/input_limits-W.txt\"\n",
    "# x_test = (x_test - bounds[:,0]) / (bounds[:,1] - bounds[:,0])\n",
    "\n",
    "y_test_N = np.loadtxt(\"../data_local/N_H/train_output.txt\")\n",
    "# reshape y_test to match the number of k values and z values\n",
    "# y_test = y_test[:, i_z*n_k:(i_z+1)*n_k]\n",
    "y_test_N = y_test_N.reshape(-1, n_z, n_k)\n",
    "\n",
    "y_test_N = 10**y_test_N\n",
    "\n",
    "ind_h_N = [144, 145, 146, 168, 169, 170, 195, 196, 197, 204, 205, 206, 336, 337, 338]\n",
    "\n",
    "\n",
    "lgk_l1 = np.loadtxt(\"../data_local/N_L1A/kf.txt\")\n",
    "# k_l1 = 10**lgk_l1\n",
    "# n_k_l1 = len(lgk_l1)\n",
    "y_l1_N = np.loadtxt(\"../data_local/N_L1A/train_output.txt\")\n",
    "\n",
    "y_l1_N = 10**y_l1_N[ind_h_N]\n",
    "y_l1_N = y_l1_N.reshape(-1, n_z, n_k_l1)\n",
    "\n",
    "lgk_l2 = np.loadtxt(\"../data_local/N_L2/kf.txt\")\n",
    "# k_l2 = 10**lgk_l2\n",
    "# n_k_l2 = len(lgk_l2)\n",
    "y_l2_N = np.loadtxt(\"../data_local/N_L2/train_output.txt\")\n",
    "y_l2_N = 10**y_l2_N[ind_h_N]\n",
    "y_l2_N = y_l2_N.reshape(-1, n_z, n_k_l2)\n",
    "\n",
    "ind_h_N = np.array(ind_h_N) + 564\n",
    "\n"
   ]
  },
  {
   "cell_type": "code",
   "execution_count": 13,
   "metadata": {},
   "outputs": [],
   "source": [
    "k, y_h_pred_N = emu.predict(x_test_N, redshifts=zs_obj)"
   ]
  },
  {
   "cell_type": "code",
   "execution_count": 14,
   "metadata": {},
   "outputs": [
    {
     "name": "stdout",
     "output_type": "stream",
     "text": [
      "9.18 ms ± 172 μs per loop (mean ± std. dev. of 7 runs, 100 loops each)\n"
     ]
    }
   ],
   "source": [
    "# test speed\n",
    "# a bunch of calls to the emulator\n",
    "\n",
    "%timeit emu.predict(x_test[0], redshifts=zs_obj)"
   ]
  },
  {
   "cell_type": "code",
   "execution_count": 15,
   "metadata": {},
   "outputs": [
    {
     "name": "stdout",
     "output_type": "stream",
     "text": [
      "Average time per call: 0.007362 seconds\n"
     ]
    }
   ],
   "source": [
    "import time\n",
    "\n",
    "n_calls = 3000  \n",
    "start = time.time()\n",
    "for _ in range(n_calls):\n",
    "    _ = emu.predict(x_test[0], redshifts=zs_obj)\n",
    "end = time.time()\n",
    "\n",
    "print(f\"Average time per call: {(end - start) / n_calls:.6f} seconds\")\n"
   ]
  },
  {
   "cell_type": "code",
   "execution_count": 16,
   "metadata": {},
   "outputs": [
    {
     "name": "stdout",
     "output_type": "stream",
     "text": [
      "Average time per call: 0.003466 seconds\n"
     ]
    }
   ],
   "source": [
    "import time\n",
    "\n",
    "n_calls = 5000  \n",
    "start = time.time()\n",
    "for _ in range(n_calls):\n",
    "    _ = emu.predict(x_test[0], redshifts=[0.,1.1,2.09, 0.33,.44])\n",
    "end = time.time()\n",
    "\n",
    "print(f\"Average time per call: {(end - start) / n_calls:.6f} seconds\")\n"
   ]
  },
  {
   "cell_type": "code",
   "execution_count": 17,
   "metadata": {},
   "outputs": [
    {
     "name": "stdout",
     "output_type": "stream",
     "text": [
      "average over k: 0.0035908500680011334\n",
      "average over k: 0.003055133478502517\n",
      "average over k: 0.003309633422281692\n",
      "average over k: 0.002360122276719971\n",
      "average over k: 0.0034350352882353626\n",
      "average over k: 0.0017317407838035666\n",
      "average over k: 0.0032685294413287353\n",
      "average over k: 0.0015578845756493644\n",
      "average over k: 0.003113122404107931\n",
      "average over k: 0.0019483693160570817\n",
      "average over k: 0.003096555236904076\n",
      "average over k: 0.0018676493279886491\n",
      "average over k: 0.0031250943488478743\n",
      "average over k: 0.0021256778617326413\n",
      "average over k: 0.003010465151912139\n",
      "average over k: 0.002131097491886857\n",
      "average over k: 0.0029986962356390087\n",
      "average over k: 0.0017993717573642574\n",
      "average over k: 0.0030380137227800515\n",
      "average over k: 0.0015147169669268705\n",
      "average over k: 0.002964867527696348\n",
      "average over k: 0.0015782990943630964\n",
      "average over k: 0.0027389716878142628\n",
      "average over k: 0.0014888426661509183\n",
      "average over k: 0.002824972904393181\n",
      "average over k: 0.0016111830196109214\n",
      "average over k: 0.0027700960105531457\n",
      "average over k: 0.0016600879629540151\n",
      "average over k: 0.0026228591439904445\n",
      "average over k: 0.001377773642235661\n",
      "average over k: 0.002627498188322966\n",
      "average over k: 0.0013231742840851205\n",
      "average over k: 0.0026934744820236505\n",
      "average over k: 0.001351444150000966\n",
      "average over k: 0.0027043753175071345\n",
      "average over k: 0.0013590084298389375\n",
      "average over k: 0.0026133118318236222\n",
      "average over k: 0.0014414264982235494\n",
      "average over k: 0.002632513082671459\n",
      "average over k: 0.0013972216789290921\n",
      "average over k: 0.002643992136234735\n",
      "average over k: 0.0013052938747770985\n",
      "average over k: 0.0026777467578008546\n",
      "average over k: 0.001393928039982381\n",
      "average over k: 0.0026429667703364913\n",
      "average over k: 0.0013887146195226145\n",
      "average over k: 0.002721022556917261\n",
      "average over k: 0.001425648695474786\n",
      "average over k: 0.0026731761823491386\n",
      "average over k: 0.001370055722607834\n",
      "average over k: 0.0025099641012511264\n",
      "average over k: 0.0014916383512976257\n",
      "average over k: 0.0026554401478231598\n",
      "average over k: 0.0014543948951613666\n",
      "average over k: 0.002551737689492095\n",
      "average over k: 0.0014743551144617473\n",
      "average over k: 0.002486903617669004\n",
      "average over k: 0.0015254567063548452\n",
      "average over k: 0.0025062726088552084\n",
      "average over k: 0.001503753630650361\n",
      "average over k: 0.0026193010606845916\n",
      "average over k: 0.0015104107243333886\n",
      "average over k: 0.0025152001867273827\n",
      "average over k: 0.0016510101558640919\n",
      "average over k: 0.0026949070154759862\n",
      "average over k: 0.0016167856073065483\n",
      "average over k: 0.0027609799817873873\n",
      "average over k: 0.0016784093465390282\n"
     ]
    },
    {
     "data": {
      "image/png": "[encoded data removed]",
      "text/plain": [
       "<Figure size 370x540 with 3 Axes>"
      ]
     },
     "metadata": {},
     "output_type": "display_data"
    }
   ],
   "source": [
    "import matplotlib.cm as cm\n",
    "import matplotlib.colors as mcolors\n",
    "\n",
    "fig, axes = plt.subplots(2, 1, figsize=(3.7, 5.4))\n",
    "\n",
    "# similar to Times New Roman\n",
    "plt.rcParams['font.family'] = 'Nimbus Roman'\n",
    "\n",
    "# Set math font style\n",
    "plt.rcParams['mathtext.fontset'] = 'cm'\n",
    "\n",
    "\n",
    "# zs_str = ['0', '0.2', '0.5', '1', '2', '3', '4', '9', '49', '99']\n",
    "# a = 1/(1+zs)\n",
    "rMAE_cosmos = []\n",
    "rMAE_cosmos_N = []\n",
    "\n",
    "cmap = \"viridis\"\n",
    "cmap = plt.get_cmap(cmap)\n",
    "color_list = [x for x in cmap(np.arange(len(zs_obj))/(len(zs_obj)-1))]\n",
    "# Create a normalization instance and scalar mappable for colorbar\n",
    "norm = mcolors.Normalize(vmin=min(zs_obj), vmax=max(zs_obj))\n",
    "sm = cm.ScalarMappable(cmap=cmap, norm=norm)\n",
    "sm.set_array([])  # Only needed to silence warnings\n",
    "\n",
    "k_trans_zs = []\n",
    "n_remove = 0 # number of k bins to remove from the end of k_l1 and the beginning of k_l2, for a smoother transition\n",
    "\n",
    "for i in range(len(zs_obj)):\n",
    "    c = color_list[i]\n",
    "    # find the best k_trans\n",
    "    # wide\n",
    "\n",
    "\n",
    "    k_com, rMAE, rMAE_min, rMAE_max, rAEs = rMAE_av_cosmo(k_test, y_test[:,i], k, y_h_pred[:,i], exclude=None)\n",
    "\n",
    "    # plot all cosmologies\n",
    "    # for j in range(rAEs.shape[0]):\n",
    "    #     ax.plot(k_com, rAEs[j]/1e-2, color=c, alpha=0.1)\n",
    "\n",
    "    axes[0].fill_between(k_com, rMAE_min/1e-2, rMAE_max/1e-2, facecolor=c, alpha=0.2, edgecolor='none')\n",
    "\n",
    "    axes[0].plot(k_com, rMAE/1e-2, color=c)\n",
    "\n",
    "    print('average over k:', rMAE.mean())\n",
    "    rMAE_cosmos.append(rMAE.mean())\n",
    "\n",
    "    # narrow\n",
    "\n",
    "    k_com, rMAE, rMAE_min, rMAE_max, rAEs = rMAE_av_cosmo(k_test, y_test_N[:,i], k, y_h_pred_N[:,i], exclude=None)\n",
    "\n",
    "    # plot all cosmologies\n",
    "    # for j in range(rAEs.shape[0]):\n",
    "    #     ax.plot(k_com, rAEs[j]/1e-2, color=c, alpha=0.1)\n",
    "\n",
    "    axes[1].fill_between(k_com, rMAE_min/1e-2, rMAE_max/1e-2, facecolor=c, alpha=0.2, edgecolor='none')\n",
    "\n",
    "    axes[1].plot(k_com, rMAE/1e-2, color=c)\n",
    "\n",
    "    print('average over k:', rMAE.mean())\n",
    "    rMAE_cosmos_N.append(rMAE.mean())\n",
    "\n",
    "rMAE_cosmos = np.array(rMAE_cosmos)\n",
    "rMAE_cosmos_N = np.array(rMAE_cosmos_N)\n",
    "k_trans_zs = np.array(k_trans_zs)\n",
    "# title\n",
    "axes[0].set_title(r'$\\tt{Goku}$' + '-' + r'$\\tt{W}$' + f' ({100*rMAE_cosmos.mean():.2f}%)')\n",
    "axes[1].set_title(r'$\\tt{Goku}$' + '-' + r'$\\tt{N}$' + f' ({100*rMAE_cosmos_N.mean():.2f}%)')\n",
    "\n",
    "xlim1 = k_com.min()\n",
    "xlim2 = k_com.max()\n",
    "# ax.set_ylabel(r'$(P_\\mathrm{HF}-P_\\mathrm{Li})/P_\\mathrm{Li}$')\n",
    "\n",
    "for ax in axes:\n",
    "    ax.set_ylim(0., 5)\n",
    "    ax.set_xscale('log')\n",
    "    ax.set_ylabel(r'$\\Phi_{\\mathrm{rMAE}}\\ (\\%)$')\n",
    "    ax.grid(True)\n",
    "    # ensure grid is beneath the lines\n",
    "    # ax.set_axisbelow(True)\n",
    "# plt.xlabel(r'$k\\ (h\\,\\mathrm{Mpc}^{-1})$')\n",
    "    square1 = patches.Rectangle((xlim1, -0.0), xlim2-xlim1, 1, color='gray', alpha=.3, zorder=2, label=r'$1\\%$')  # alpha ranges from 0 (transparent) to 1 (opaque)\n",
    "# Add the square to the axes\n",
    "    ax.add_patch(square1)\n",
    "    ax.set_xlim(xlim1, xlim2)\n",
    "\n",
    "axes[1].set_xlabel(r'$k\\ (h\\,\\mathrm{Mpc}^{-1})$')\n",
    "\n",
    "# hide axes[0] x tick labels\n",
    "axes[0].set_xticklabels([])\n",
    "\n",
    "\n",
    "axes[0].legend(loc='best')\n",
    "\n",
    "\n",
    "\n",
    "# add colorbar\n",
    "# cbar = plt.colorbar(sm, ax=axes[0], pad=0.01)\n",
    "cbar = plt.colorbar(sm, ax=axes, pad=0.02, aspect=30)\n",
    "\n",
    "cbar.set_label(r'Redshift $z$')\n",
    "\n",
    "\n",
    "# plt.show()\n",
    "# plt.savefig('NEmu_against_WN.pdf', bbox_inches='tight')"
   ]
  }
 ],
 "metadata": {
  "kernelspec": {
   "display_name": "pytorch-env",
   "language": "python",
   "name": "python3"
  },
  "language_info": {
   "codemirror_mode": {
    "name": "ipython",
    "version": 3
   },
   "file_extension": ".py",
   "mimetype": "text/x-python",
   "name": "python",
   "nbconvert_exporter": "python",
   "pygments_lexer": "ipython3",
   "version": "3.10.16"
  }
 },
 "nbformat": 4,
 "nbformat_minor": 2
}
