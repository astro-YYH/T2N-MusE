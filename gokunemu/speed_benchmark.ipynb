{
 "cells": [
  {
   "cell_type": "code",
   "execution_count": 29,
   "metadata": {},
   "outputs": [],
   "source": [
    "import torch\n",
    "import numpy as np\n",
    "import matplotlib.pyplot as plt\n",
    "import os\n",
    "import sys\n",
    "sys.path.append(\"../\") # Add parent directory to path"
   ]
  },
  {
   "cell_type": "code",
   "execution_count": 30,
   "metadata": {},
   "outputs": [
    {
     "name": "stdout",
     "output_type": "stream",
     "text": [
      "Using device: cpu\n"
     ]
    }
   ],
   "source": [
    "# Check if GPU is available\n",
    "# if torch.cuda.is_available():\n",
    "#     device = torch.device(\"cuda\")\n",
    "#     print(\"Using GPU:\", torch.cuda.get_device_name(0))\n",
    "device = torch.device(\"cpu\")\n",
    "print(\"Using device:\", device)"
   ]
  },
  {
   "cell_type": "code",
   "execution_count": 33,
   "metadata": {},
   "outputs": [],
   "source": [
    "# load input data\n",
    "x_test = np.load(\"../data/L2Hr/train_input.npy\")\n"
   ]
  },
  {
   "cell_type": "code",
   "execution_count": 34,
   "metadata": {},
   "outputs": [],
   "source": [
    "zs = [0.,.2, .4, .6, .8, 1.]"
   ]
  },
  {
   "cell_type": "code",
   "execution_count": 35,
   "metadata": {},
   "outputs": [
    {
     "data": {
      "text/plain": [
       "(36, 10)"
      ]
     },
     "execution_count": 35,
     "metadata": {},
     "output_type": "execute_result"
    }
   ],
   "source": [
    "x_test.shape"
   ]
  },
  {
   "cell_type": "code",
   "execution_count": 36,
   "metadata": {},
   "outputs": [],
   "source": [
    "from gokunemu import MatterPowerEmulator\n",
    "emu = MatterPowerEmulator(device=device)"
   ]
  },
  {
   "cell_type": "code",
   "execution_count": 37,
   "metadata": {},
   "outputs": [
    {
     "name": "stdout",
     "output_type": "stream",
     "text": [
      "3.06 ms ± 174 μs per loop (mean ± std. dev. of 7 runs, 100 loops each)\n"
     ]
    }
   ],
   "source": [
    "# test speed\n",
    "# a bunch of calls to the emulator\n",
    "\n",
    "%timeit emu.predict(x_test[0], redshifts=zs)"
   ]
  },
  {
   "cell_type": "code",
   "execution_count": 39,
   "metadata": {},
   "outputs": [
    {
     "name": "stdout",
     "output_type": "stream",
     "text": [
      "Average time per call: 0.003218 seconds\n"
     ]
    }
   ],
   "source": [
    "import time\n",
    "\n",
    "n_calls = 5000  \n",
    "start = time.time()\n",
    "for _ in range(n_calls):\n",
    "    _ = emu.predict(x_test[0], redshifts=[0.,1.1,2.09, 0.33,.44])\n",
    "end = time.time()\n",
    "\n",
    "print(f\"Average time per call: {(end - start) / n_calls:.6f} seconds\")\n"
   ]
  },
  {
   "cell_type": "code",
   "execution_count": 40,
   "metadata": {},
   "outputs": [
    {
     "name": "stdout",
     "output_type": "stream",
     "text": [
      "Average time per call: 0.012833 seconds\n"
     ]
    }
   ],
   "source": [
    "# multiple cosmologies\n",
    "\n",
    "n_calls = 1000  \n",
    "start = time.time()\n",
    "for _ in range(n_calls):\n",
    "    _ = emu.predict(x_test, redshifts=[0.,1.1,2.09, 0.33,.44])\n",
    "end = time.time()\n",
    "\n",
    "print(f\"Average time per call: {(end - start) / n_calls:.6f} seconds\")\n"
   ]
  }
 ],
 "metadata": {
  "kernelspec": {
   "display_name": "pytorch-env",
   "language": "python",
   "name": "python3"
  },
  "language_info": {
   "codemirror_mode": {
    "name": "ipython",
    "version": 3
   },
   "file_extension": ".py",
   "mimetype": "text/x-python",
   "name": "python",
   "nbconvert_exporter": "python",
   "pygments_lexer": "ipython3",
   "version": "3.10.16"
  }
 },
 "nbformat": 4,
 "nbformat_minor": 2
}
